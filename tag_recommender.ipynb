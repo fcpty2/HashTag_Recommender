{
  "nbformat": 4,
  "nbformat_minor": 0,
  "metadata": {
    "colab": {
      "name": "tag_recommender.ipynb",
      "provenance": [],
      "collapsed_sections": [
        "5clOStUyDYxC"
      ]
    },
    "kernelspec": {
      "name": "python3",
      "display_name": "Python 3"
    },
    "language_info": {
      "name": "python"
    }
  },
  "cells": [
    {
      "cell_type": "markdown",
      "metadata": {
        "id": "P9Fr0Dg8QzS7"
      },
      "source": [
        "## Preprocess data"
      ]
    },
    {
      "cell_type": "code",
      "metadata": {
        "id": "IjGwq9LCXtaC"
      },
      "source": [
        "import requests\n",
        "import pandas as pd\n",
        "import numpy as np\n",
        "import matplotlib.pyplot as plt\n",
        "from pandas import json_normalize\n",
        "import json\n",
        "from collections import Counter"
      ],
      "execution_count": null,
      "outputs": []
    },
    {
      "cell_type": "code",
      "metadata": {
        "id": "keUdhGGzRw84"
      },
      "source": [
        "import tensorflow as tf\n",
        "from tensorflow.keras.preprocessing import sequence\n",
        "from tensorflow.keras.models import Sequential, Model\n",
        "from tensorflow.keras.layers import GRU, Dropout\n",
        "from tensorflow.keras.models import load_model\n",
        "from tensorflow.keras.layers import Embedding, Reshape, Activation, Input, Dense,Flatten, SpatialDropout1D, concatenate\n",
        "from tensorflow.keras.layers import GRU,Reshape,TimeDistributed,Bidirectional,Dropout,Masking,Conv1D, Conv2D,MaxPool2D,GlobalAveragePooling1D, GlobalMaxPooling1D\n",
        "from tensorflow.python.keras.layers.merge import Dot\n",
        "from tensorflow.keras.utils import plot_model\n",
        "from tensorflow.python.keras.utils import np_utils\n",
        "from tensorflow.python.keras.utils.data_utils import get_file\n",
        "from tensorflow.python.keras.utils.np_utils import to_categorical\n",
        "from tensorflow.keras.preprocessing.sequence import skipgrams\n",
        "from tensorflow.keras.preprocessing import sequence\n",
        "from tensorflow.keras import backend as K\n",
        "from tensorflow.keras.optimizers import Adam"
      ],
      "execution_count": null,
      "outputs": []
    },
    {
      "cell_type": "code",
      "metadata": {
        "id": "5YHyQLsHggBd"
      },
      "source": [
        "!wget -q http://www.arts.chula.ac.th/ling/wp-content/uploads/TH-Sarabun_Chula1.1.zip -O font.zip\n",
        "!unzip -qj font.zip TH-Sarabun_Chula1.1/THSarabunChula-Regular.ttf\n",
        "import matplotlib as mpl\n",
        "mpl.font_manager.fontManager.addfont('THSarabunChula-Regular.ttf')\n",
        "mpl.rc('font', family='TH Sarabun Chula')"
      ],
      "execution_count": null,
      "outputs": []
    },
    {
      "cell_type": "code",
      "metadata": {
        "id": "sVELIT0FM-np"
      },
      "source": [
        "# Load data\n",
        "df_content = pd.read_csv(\"pantip_scrapping.csv\")"
      ],
      "execution_count": null,
      "outputs": []
    },
    {
      "cell_type": "code",
      "metadata": {
        "colab": {
          "base_uri": "https://localhost:8080/"
        },
        "id": "Sc84Rs2HXD_P",
        "outputId": "a99345e6-8281-4df6-e97f-f5eea407ea31"
      },
      "source": [
        "df_content.head()"
      ],
      "execution_count": null,
      "outputs": [
        {
          "output_type": "execute_result",
          "data": {
            "text/html": [
              "<div>\n",
              "<style scoped>\n",
              "    .dataframe tbody tr th:only-of-type {\n",
              "        vertical-align: middle;\n",
              "    }\n",
              "\n",
              "    .dataframe tbody tr th {\n",
              "        vertical-align: top;\n",
              "    }\n",
              "\n",
              "    .dataframe thead th {\n",
              "        text-align: right;\n",
              "    }\n",
              "</style>\n",
              "<table border=\"1\" class=\"dataframe\">\n",
              "  <thead>\n",
              "    <tr style=\"text-align: right;\">\n",
              "      <th></th>\n",
              "      <th>topic_id</th>\n",
              "      <th>title</th>\n",
              "      <th>content</th>\n",
              "      <th>tags</th>\n",
              "    </tr>\n",
              "  </thead>\n",
              "  <tbody>\n",
              "    <tr>\n",
              "      <th>0</th>\n",
              "      <td>40643404</td>\n",
              "      <td>ทริปเกาะเสม็ด 3 วัน 2 คืน วันที่สองที่ทรายแก้ว...</td>\n",
              "      <td>\\r\\n\\t\\t\\t\\t\\t\\t\\t\\t\\t\\t\\t\\t\\t\\t\\t\\tคืนแรกที่เ...</td>\n",
              "      <td>[{'name': 'เกาะเสม็ด', 'slug': 'เกาะเสม็ด'}, {...</td>\n",
              "    </tr>\n",
              "    <tr>\n",
              "      <th>1</th>\n",
              "      <td>40643393</td>\n",
              "      <td>…  ธูษิฏา เวลเนส รีสอร์ต ชุมพร  Tusita Wellnes...</td>\n",
              "      <td>\\r\\n\\t\\t\\t\\t\\t\\t\\t\\t\\t\\t\\t\\t\\t\\t\\t\\t.     ธูษิ...</td>\n",
              "      <td>[{'name': 'บันทึกนักเดินทาง', 'slug': 'บันทึกน...</td>\n",
              "    </tr>\n",
              "    <tr>\n",
              "      <th>2</th>\n",
              "      <td>40643087</td>\n",
              "      <td>พาชม สนามกอล์ฟ ศูนย์สร้างทางลำปาง กรมทางหลวง (...</td>\n",
              "      <td>\\n\\nใบสนร่วงให้ฟีลแผ่นดินสีทอง สวยไปอีกแบบครับ...</td>\n",
              "      <td>[{'name': 'กอล์ฟ', 'slug': 'กอล์ฟ'}, {'name': ...</td>\n",
              "    </tr>\n",
              "    <tr>\n",
              "      <th>3</th>\n",
              "      <td>40642333</td>\n",
              "      <td>Copenhagen : Summer days - ฤดูร้อนในโคเปนเฮเกน...</td>\n",
              "      <td>\\r\\n\\t\\t\\t\\t\\t\\t\\t\\t\\t\\t\\t\\t\\t\\t\\t\\tทริปนี้เป็...</td>\n",
              "      <td>[{'name': 'โคเปนเฮเกน', 'slug': 'โคเปนเฮเกน'},...</td>\n",
              "    </tr>\n",
              "    <tr>\n",
              "      <th>4</th>\n",
              "      <td>40642260</td>\n",
              "      <td>📌 แจกพิกัด 6 ทุ่งดอกไม้หลากสีทั่วญี่ปุ่น ที่ไม...</td>\n",
              "      <td>\\nถ้าพูดถึงดอกไม้ของญี่ปุ่นหลายๆคนคงจะนึกถึงดอ...</td>\n",
              "      <td>[{'name': 'เที่ยวญี่ปุ่น', 'slug': 'เที่ยวญี่ป...</td>\n",
              "    </tr>\n",
              "  </tbody>\n",
              "</table>\n",
              "</div>"
            ],
            "text/plain": [
              "   topic_id  ...                                               tags\n",
              "0  40643404  ...  [{'name': 'เกาะเสม็ด', 'slug': 'เกาะเสม็ด'}, {...\n",
              "1  40643393  ...  [{'name': 'บันทึกนักเดินทาง', 'slug': 'บันทึกน...\n",
              "2  40643087  ...  [{'name': 'กอล์ฟ', 'slug': 'กอล์ฟ'}, {'name': ...\n",
              "3  40642333  ...  [{'name': 'โคเปนเฮเกน', 'slug': 'โคเปนเฮเกน'},...\n",
              "4  40642260  ...  [{'name': 'เที่ยวญี่ปุ่น', 'slug': 'เที่ยวญี่ป...\n",
              "\n",
              "[5 rows x 4 columns]"
            ]
          },
          "metadata": {
            "tags": []
          },
          "execution_count": 6
        }
      ]
    },
    {
      "cell_type": "markdown",
      "metadata": {
        "id": "WmhIVRqvnEjR"
      },
      "source": [
        "## Preprocess labels"
      ]
    },
    {
      "cell_type": "code",
      "metadata": {
        "id": "rPxTTf7fFSbq"
      },
      "source": [
        "tag_count = []\n",
        "tags_temp = []\n",
        "\n",
        "i = 0\n",
        "for index, row in df_content.iterrows():\n",
        "  tags = json.loads(json.dumps(eval(row['tags'])))\n",
        "  temp = []\n",
        "  for tag in tags:\n",
        "    temp.append(tag['slug'])\n",
        "    tag_count.append(tag['slug'])\n",
        "  tags_temp.append(temp)\n",
        "\n",
        "df_content['tags'] = tags_temp\n",
        "tag_count = Counter(tag_count)"
      ],
      "execution_count": null,
      "outputs": []
    },
    {
      "cell_type": "code",
      "metadata": {
        "id": "mKb9-S1Kq21O",
        "colab": {
          "base_uri": "https://localhost:8080/"
        },
        "outputId": "6fa87a8b-8187-4a2d-b849-c6672f5f2b54"
      },
      "source": [
        "n_tags = int(0.05*len(tag_count))\n",
        "Top_tags = sorted(tag_count.items(), key=lambda item: item[1], reverse=True)[:n_tags]\n",
        "print(Top_tags)"
      ],
      "execution_count": null,
      "outputs": [
        {
          "output_type": "stream",
          "text": [
            "[('บันทึกนักเดินทาง', 5099), ('เที่ยวไทย', 2957), ('เที่ยวต่างประเทศ', 2443), ('สถานที่ท่องเที่ยวต่างประเทศ', 1676), ('สถานที่ท่องเที่ยวในประเทศ', 1651), ('Backpack', 1435), ('โรงแรมรีสอร์ท', 1201), ('ภาพถ่ายทิวทัศน์', 1106), ('เที่ยวทะเล', 1067), ('เที่ยวญี่ปุ่น', 950), ('เที่ยวภูเขา', 833), ('ท่องเที่ยว', 727), ('สถานที่ท่องเที่ยว', 582), ('นักท่องเที่ยว', 551), ('One_Day_Trip', 535), ('ร้านอาหาร', 501), ('โรงแรมรีสอร์ทไทย', 467), ('ภาพถ่ายจากกล้องโทรศัพท์', 454), ('คาเฟ่_(Cafe)', 452), ('ประเทศญี่ปุ่น', 450), ('เที่ยวเชิงอนุรักษ์', 442), ('ภาพถ่าย', 426), ('สถานที่ท่องเที่ยวกรุงเทพฯ', 407), ('สถานที่ท่องเที่ยวสำหรับครอบครัว', 393), ('Slow_Life', 389), ('เที่ยวยุโรป', 361), ('เดินป่า', 332), ('แผนการเดินทางและท่องเที่ยว', 330), ('จังหวัดเชียงใหม่', 280), ('ร้านกาแฟ', 260), ('สายการบิน', 245), ('การท่องเที่ยวแห่งประเทศไทย', 214), ('โตเกียว', 193), ('พัทยา', 185), ('เที่ยววัด', 180), ('เที่ยวน้ำตก', 179), ('จังหวัดภูเก็ต', 174), ('ที่พัก', 166), ('โฮมสเตย์', 162), ('สถานที่ถ่ายรูป', 153), ('อาหาร', 149), ('เที่ยวจีน', 148), ('ภาคเหนือ', 142), ('รถไฟ', 130), ('จังหวัดกาญจนบุรี', 129), ('ดำน้ำ', 129), ('โอซาก้า', 127), ('มอเตอร์ไซค์', 126), ('ประเทศเวียดนาม', 122), ('จังหวัดน่าน', 121), ('โรงแรมรีสอร์ทต่างประเทศ', 119), ('ทริปถ่ายรูป', 118), ('คันไซ', 118), ('เที่ยวเกาหลี', 118), ('เที่ยวเวียดนาม', 116), ('กิจกรรมท่องเที่ยว', 112), ('อุทยานแห่งชาติ', 112), ('สนามบิน', 108), ('จังหวัดชลบุรี', 100), ('อาหารญี่ปุ่น', 99), ('ประเทศจีน', 99), ('ฮอกไกโด', 96), ('หัวหิน', 96), ('เที่ยวอินเดีย', 91), ('เที่ยวไต้หวัน', 90), ('จังหวัดพังงา', 88), ('เขาใหญ่', 86), ('ไต้หวัน', 85), ('วีซ่า', 84), ('ประเทศสิงคโปร์', 83)]\n"
          ],
          "name": "stdout"
        }
      ]
    },
    {
      "cell_type": "code",
      "metadata": {
        "id": "VkC10_t5seJn"
      },
      "source": [
        "idx_to_tag = {}\n",
        "tag_to_idx = {}\n",
        "i = 0\n",
        "for tag in Top_tags:\n",
        "  if tag[0] not in tag_to_idx:\n",
        "    tag_to_idx[tag[0]] = i\n",
        "    i += 1\n",
        "idx_to_tag = {v: k for k, v in tag_to_idx.items()}"
      ],
      "execution_count": null,
      "outputs": []
    },
    {
      "cell_type": "code",
      "metadata": {
        "colab": {
          "base_uri": "https://localhost:8080/"
        },
        "id": "NB5TKTBPtL6O",
        "outputId": "e302bb5d-9a0f-423d-df56-36d32ac1c36f"
      },
      "source": [
        "print(idx_to_tag)"
      ],
      "execution_count": null,
      "outputs": [
        {
          "output_type": "stream",
          "text": [
            "{0: 'บันทึกนักเดินทาง', 1: 'เที่ยวไทย', 2: 'เที่ยวต่างประเทศ', 3: 'สถานที่ท่องเที่ยวต่างประเทศ', 4: 'สถานที่ท่องเที่ยวในประเทศ', 5: 'Backpack', 6: 'โรงแรมรีสอร์ท', 7: 'ภาพถ่ายทิวทัศน์', 8: 'เที่ยวทะเล', 9: 'เที่ยวญี่ปุ่น', 10: 'เที่ยวภูเขา', 11: 'ท่องเที่ยว', 12: 'สถานที่ท่องเที่ยว', 13: 'นักท่องเที่ยว', 14: 'One_Day_Trip', 15: 'ร้านอาหาร', 16: 'โรงแรมรีสอร์ทไทย', 17: 'ภาพถ่ายจากกล้องโทรศัพท์', 18: 'คาเฟ่_(Cafe)', 19: 'ประเทศญี่ปุ่น', 20: 'เที่ยวเชิงอนุรักษ์', 21: 'ภาพถ่าย', 22: 'สถานที่ท่องเที่ยวกรุงเทพฯ', 23: 'สถานที่ท่องเที่ยวสำหรับครอบครัว', 24: 'Slow_Life', 25: 'เที่ยวยุโรป', 26: 'เดินป่า', 27: 'แผนการเดินทางและท่องเที่ยว', 28: 'จังหวัดเชียงใหม่', 29: 'ร้านกาแฟ', 30: 'สายการบิน', 31: 'การท่องเที่ยวแห่งประเทศไทย', 32: 'โตเกียว', 33: 'พัทยา', 34: 'เที่ยววัด', 35: 'เที่ยวน้ำตก', 36: 'จังหวัดภูเก็ต', 37: 'ที่พัก', 38: 'โฮมสเตย์', 39: 'สถานที่ถ่ายรูป', 40: 'อาหาร', 41: 'เที่ยวจีน', 42: 'ภาคเหนือ', 43: 'รถไฟ', 44: 'จังหวัดกาญจนบุรี', 45: 'ดำน้ำ', 46: 'โอซาก้า', 47: 'มอเตอร์ไซค์', 48: 'ประเทศเวียดนาม', 49: 'จังหวัดน่าน', 50: 'โรงแรมรีสอร์ทต่างประเทศ', 51: 'ทริปถ่ายรูป', 52: 'คันไซ', 53: 'เที่ยวเกาหลี', 54: 'เที่ยวเวียดนาม', 55: 'กิจกรรมท่องเที่ยว', 56: 'อุทยานแห่งชาติ', 57: 'สนามบิน', 58: 'จังหวัดชลบุรี', 59: 'อาหารญี่ปุ่น', 60: 'ประเทศจีน', 61: 'ฮอกไกโด', 62: 'หัวหิน', 63: 'เที่ยวอินเดีย', 64: 'เที่ยวไต้หวัน', 65: 'จังหวัดพังงา', 66: 'เขาใหญ่', 67: 'ไต้หวัน', 68: 'วีซ่า', 69: 'ประเทศสิงคโปร์'}\n"
          ],
          "name": "stdout"
        }
      ]
    },
    {
      "cell_type": "code",
      "metadata": {
        "id": "Xo0nmelAkAC4"
      },
      "source": [
        "tags_temp = []\n",
        "\n",
        "for index, row in df_content.iterrows():\n",
        "  \n",
        "  temp = []\n",
        "  for tag in row['tags']:\n",
        "    # print(tag)\n",
        "    if tag in tag_to_idx:\n",
        "      temp.append(tag_to_idx[tag])\n",
        "  tags_temp.append(temp)\n",
        "  \n",
        "df_content['idx_tags'] = tags_temp"
      ],
      "execution_count": null,
      "outputs": []
    },
    {
      "cell_type": "code",
      "metadata": {
        "colab": {
          "base_uri": "https://localhost:8080/",
          "height": 194
        },
        "id": "UXDB8hd9CBRH",
        "outputId": "02199e70-5da9-42e6-e91d-d9f1ce497dd9"
      },
      "source": [
        "df_content.head()"
      ],
      "execution_count": null,
      "outputs": [
        {
          "output_type": "execute_result",
          "data": {
            "text/html": [
              "<div>\n",
              "<style scoped>\n",
              "    .dataframe tbody tr th:only-of-type {\n",
              "        vertical-align: middle;\n",
              "    }\n",
              "\n",
              "    .dataframe tbody tr th {\n",
              "        vertical-align: top;\n",
              "    }\n",
              "\n",
              "    .dataframe thead th {\n",
              "        text-align: right;\n",
              "    }\n",
              "</style>\n",
              "<table border=\"1\" class=\"dataframe\">\n",
              "  <thead>\n",
              "    <tr style=\"text-align: right;\">\n",
              "      <th></th>\n",
              "      <th>topic_id</th>\n",
              "      <th>title</th>\n",
              "      <th>content</th>\n",
              "      <th>tags</th>\n",
              "      <th>idx_tags</th>\n",
              "    </tr>\n",
              "  </thead>\n",
              "  <tbody>\n",
              "    <tr>\n",
              "      <th>0</th>\n",
              "      <td>40643404</td>\n",
              "      <td>ทริปเกาะเสม็ด 3 วัน 2 คืน วันที่สองที่ทรายแก้ว...</td>\n",
              "      <td>\\r\\n\\t\\t\\t\\t\\t\\t\\t\\t\\t\\t\\t\\t\\t\\t\\t\\tคืนแรกที่เ...</td>\n",
              "      <td>[เกาะเสม็ด, เที่ยวทะเล, จังหวัดระยอง, เที่ยวไท...</td>\n",
              "      <td>[8, 1, 16]</td>\n",
              "    </tr>\n",
              "    <tr>\n",
              "      <th>1</th>\n",
              "      <td>40643393</td>\n",
              "      <td>…  ธูษิฏา เวลเนส รีสอร์ต ชุมพร  Tusita Wellnes...</td>\n",
              "      <td>\\r\\n\\t\\t\\t\\t\\t\\t\\t\\t\\t\\t\\t\\t\\t\\t\\t\\t.     ธูษิ...</td>\n",
              "      <td>[บันทึกนักเดินทาง, โรงแรมรีสอร์ท, จังหวัดชุมพร...</td>\n",
              "      <td>[0, 6, 8, 16]</td>\n",
              "    </tr>\n",
              "    <tr>\n",
              "      <th>2</th>\n",
              "      <td>40643087</td>\n",
              "      <td>พาชม สนามกอล์ฟ ศูนย์สร้างทางลำปาง กรมทางหลวง (...</td>\n",
              "      <td>\\n\\nใบสนร่วงให้ฟีลแผ่นดินสีทอง สวยไปอีกแบบครับ...</td>\n",
              "      <td>[กอล์ฟ, กีฬาผู้สูงอายุ, เที่ยวไทย, จังหวัดลำปา...</td>\n",
              "      <td>[1]</td>\n",
              "    </tr>\n",
              "    <tr>\n",
              "      <th>3</th>\n",
              "      <td>40642333</td>\n",
              "      <td>Copenhagen : Summer days - ฤดูร้อนในโคเปนเฮเกน...</td>\n",
              "      <td>\\r\\n\\t\\t\\t\\t\\t\\t\\t\\t\\t\\t\\t\\t\\t\\t\\t\\tทริปนี้เป็...</td>\n",
              "      <td>[โคเปนเฮเกน, เที่ยวยุโรป, บันทึกนักเดินทาง, ปร...</td>\n",
              "      <td>[25, 0, 3]</td>\n",
              "    </tr>\n",
              "    <tr>\n",
              "      <th>4</th>\n",
              "      <td>40642260</td>\n",
              "      <td>📌 แจกพิกัด 6 ทุ่งดอกไม้หลากสีทั่วญี่ปุ่น ที่ไม...</td>\n",
              "      <td>\\nถ้าพูดถึงดอกไม้ของญี่ปุ่นหลายๆคนคงจะนึกถึงดอ...</td>\n",
              "      <td>[เที่ยวญี่ปุ่น, ฮอกไกโด, โตเกียว, โอซาก้า, สถา...</td>\n",
              "      <td>[9, 61, 32, 46, 3]</td>\n",
              "    </tr>\n",
              "  </tbody>\n",
              "</table>\n",
              "</div>"
            ],
            "text/plain": [
              "   topic_id  ...            idx_tags\n",
              "0  40643404  ...          [8, 1, 16]\n",
              "1  40643393  ...       [0, 6, 8, 16]\n",
              "2  40643087  ...                 [1]\n",
              "3  40642333  ...          [25, 0, 3]\n",
              "4  40642260  ...  [9, 61, 32, 46, 3]\n",
              "\n",
              "[5 rows x 5 columns]"
            ]
          },
          "metadata": {
            "tags": []
          },
          "execution_count": 13
        }
      ]
    },
    {
      "cell_type": "code",
      "metadata": {
        "id": "hdREsgQvuhM6"
      },
      "source": [
        "from sklearn.preprocessing import MultiLabelBinarizer\n",
        "\n",
        "multilabel_binarizer = MultiLabelBinarizer()\n",
        "multilabel_binarizer.fit(df_content['idx_tags'])\n",
        "\n",
        "y = multilabel_binarizer.transform(df_content['idx_tags'])"
      ],
      "execution_count": null,
      "outputs": []
    },
    {
      "cell_type": "code",
      "metadata": {
        "colab": {
          "base_uri": "https://localhost:8080/",
          "height": 107
        },
        "id": "tHr9VOyuoXPi",
        "outputId": "80d0c56d-0d90-4aec-8f7e-793bd0c4a6ea"
      },
      "source": [
        "cut_string = r\"[\\xa0\\|\\(\\)\\[\\]\\{\\}\\n\\t\\r-]*\"\n",
        "\n",
        "test = df_content['content'].iloc[-2]\n",
        "test = \"[test] {test} \" + test\n",
        "test"
      ],
      "execution_count": null,
      "outputs": [
        {
          "output_type": "execute_result",
          "data": {
            "application/vnd.google.colaboratory.intrinsic+json": {
              "type": "string"
            },
            "text/plain": [
              "'[test] {test} \\r\\n\\t\\t\\t\\t\\t\\t\\t\\t\\t\\t\\t\\t\\t\\t\\t\\t😀เริ่มจากเดือนกันยายนปีที่แล้ว เริ่มวางแผน trip ตะลุย hong kong โดยกำหนดเดินทางเดือน มีนาคม 62 จากนั้นก็ตั้งตารอคอยโปรโมชั่นตั๋วถูก ในที่สุดส้มหล่นค่ะ ได้ตั๋วไป-กลับ ภูเก็ต - ฮองกง จาก www.hxexpress.com ในราคา 3400 รวมค่าธรรมเนียมบัตรเครดิต = 3846 บาท โอแม่จ้าว ถูกมวากก จากราคาปกติประมาณ 6000 บาท (ราคานี้คือลากกระเป๋าขึ้นเครื่องนะค่ะ ถ้าจะ load กระเป๋าจ่ายเพิ่มเที่ยวล่ะ 990 บาทจ้า)\\n\\n😀เมื่อได้ตั๋วแล้ว step ต่อไปคือการหาที่พัก เราทำการบ้านอย่างหนัก ในการเลือกโรงแรม โดยมี เงื่อนไขการจองโรงแรม 1.งบไม่เกิน 2,500 บาทต่อคืน 2.ขอเป็นโรงแรมไม่เอา guest house เพราะ guest house ห้องเล็กมากกก ไม่มีทางเดินในห้อง เปิดประตูปุ๊บจะเจอปลายเตียงทันที ห้องแบบโรงแรมยังพอมีทางเดินในห้องบ้างพอให้หายใจโล่งๆ 3. ขอโรงแรมใกล้สถานีรถไฟฟ้า เดินไม่เกิน 300 เมตร เพราะขี้เกียจเดินค่ะ 4.ขอโรงแรมที่เป็นจุดจอดของรถรับส่งสนามบิน เพราะขี้เกียจลากกระเป๋าไปขึ้นรถ หุหุ เงื่อนไขเจ้เยอะไปป่าว สุดท้ายมาลงตัวที่ NOBEL PARK HOTEL ย่าน Jodan จองผ่าน www.booking.com ในราคา 2800 บาท/คืน เกิน budget ไปนิดหน่อย ไม่เป็นไร แลกกับเงื่อนไขไม่เดินไกลของเจ้ เรียบร้อยทั้งตั๋วและที่พัก ข้อดีของโรงแรมนี้คือบริการตู้กดน้ำดื่มหน้าลิฟท์ทุกชั้น ผ้าขนหนูฟรี รับฝากกระเป๋าฟรี อุปกรณ์อาบน้ำฟรี\\n\\n😀มาวางแผนการท่องเที่ยวในแต่ละวันกันค่ะ โอ้วพอศึกษาเข้าจริงๆ ฮองกงมีที่เที่ยวเยอะมากก จนทริป 3วัน2คืน\\xa0 เวลาไม่พอ อยากเปลี่ยนเป็น 4วัน3คืน จุงเบย แต่ไม่ทันล่ะ เลือกไฮไลท์ที่อยากไปล่ะกัน สถานที่เที่ยวทั้งหมดใช้แผนที่ MTR ฮ่องกง เป็นหลักเลยค่ะ\\n\\nสำหรับการเดินทางจากสนามบินไปโรงแรม เราเลือกใช้ บริการ bus สาย A21 เป็นสายที่เข้าเมืองและจุดจอดหน้าทางเข้าโรงแรมพอดีแป๊ะตามคอนเซปไม่ลากกระเป๋าไกลของเจ้ 555 \\n\\n_____\\n\\nDay 1\\n\\n8.30 พร้อมกันสนามบินภูเก็ต (มีไฟล์แรกของวันคือ 04.00 น. นะค่ะ แต่ไม่ได้เลือก เนื่องจากบ้านไกลจากสนามบิน ต้องออกจากบ้านตั้งแต่ห้าทุ่ม เท่ากับคืนนั้นไม่ได้นอนเลย เจ้ไม่ไหวค่ะ วัยรุ่นอาจจะเหมาะกว่า ได้เที่ยวมากขึ้นด้วยนะค่ะ)\\n\\n11.50 ออกเดินทาง\\n\\n16.10 ถึงสนามบินฮองกง แวะซื้อบัตร octoous (เป็นบัตรใช้จ่ายค่ารถไฟฟ้า ค่ารถบัส ซื้อของร้านสะดวกซื้อ) เดินออกมาตามป้าย Bus Terminal\\xa0 ไปที่จุดจอด bus A21ขึ้น Bus A21 ลงป้าย10จุดจอด nathan hotel รร.ที่เราพักอยู่ซอยข้างๆ nathan holtel จ้า\\n\\n17.30 เดินเข้าซอย 50 เมตร เชคอิน รร.โนเบลพาร์ค (มีค่ามัดจำ 500 hk$ รับคืนวันกลับ)\\n\\n18.00 ขึ้นรถไฟฟ้า mtr ลงสถานีจิมซาจุ่ยออก exit J: avenue of start, \\n\\n18.45 อาหารเย็น deli wine อยู่ใต้อาคารศูนย์วัฒนธรรม ที่เราจะไปดูไฟ\\n\\n20.00 รอที่ clock tower จุดดู symphony of light \\n\\n20.30 นั่ง mtr ไปลงสถานีมงก๊ก ออก exit D ช๊อปปิ้งตลาด lady market ประกอบ 3 เส้นหลัก lady st. เสื้อผ้ากระเป๋าเหมือนสำเพ็ง Fayern st. Shopรองเท้า tung choi st. ขายเสื้อผ้าสินค้ากลุ่มวัยรุ่น\\n\\n22.30 แวะชิมก๋วยเตี๋ยวลูกชิ้นปลาก่อนกลับโรงแรม นั่ง mtr ไปลงสถานีจอร์แดน ออก exit B1 เดิน 300 เมตรถึงโรงแรม\\n\\n_____\\n\\nDay 2\\n\\n8.00 พร้อมกันที่ lobby โรงแรม กินโจ๊กร้านดังข้างโรงแรม\\n\\n9.00 ขึ้น mtr ลงสถานีเซนทรัล exit A เดินไปต่อ Bus Terminal สาย 15 ไป the peak ชมวิว360 ของฮองกง (ซื้อบัตร sky pass 52dhk ) ขาลงซื้อบัตรรถราง single tram ลงมาถึงข้างล่าง จะเดินเข้า mtr ได้เลย\\n\\n12.00แวะกินข้างเที่ยงที่ mtr ก่อนไปตะลุยดีสนีย์ทั้งวัน \\n\\n20.00 อาหารเย็น ก่อนปิดท้ายด้วยไฮไลท์ขบวนพาเหรด\\n\\n21.00 กลับโรงแรม\\n\\n_____\\n\\nDay 3\\n\\n8.00 พร้อมกันที่ lobby check out เสร็จแล้วเดินไปโรงแรม eaton ซอยถัดไปจากโรงแรมที่เราพัก เพื่อรอรถที่ป้ายจอด shutter bus สาย K1 เพื่อไปสถานีรถไฟเกาลูน (ขึ้นได้เลยไม่มีค่าใช้จ่าย) เมื่อลงจาก bus ก้อเข้าในอาคาร แวะซื้อตั๋ว AE (62 dhk)ไปสนามบิน แล้วก้อ เข้าไป check in town in town กับสายการ hx express เราก้อจะได้ load กระเป๋า และรับตั๋วไฟล์กลับภูเก็ตเลย จากนั้นเราก้อเดินตัวปลิวไปเที่ยวต่อโดยใช้ บัตร AE แตะเข้าไป เพื่อขึ้นรถไฟฟ้าไปสนามบินเลยจ้า\\n\\n9.00 ถึงสนามบิน ลงจากรถไฟ AE เดินออกนอกอาคาร ไปตามป้าย bus terminal ไปที่ จุดจอด bus S1 ไป สถานี (Tung Chung) เพื่อไปวัดนองปิง ไหว้พระใหญ่ ลงที่สถานี Tung Chung เดินไปทางกระเช้า 360 องศา เพื่อซื้อตั๋วกระเช้าข้ามทะเลไปบนเขานองปิง ลงจากกระเช้าก้อเที่ยวตามอัธยาศัยเลยจ้า \\n\\n12.00 กลับมากินข้าวเที่ยงและshopping ที่ Citygate Outlet ต้องหิ้วขึ้นเครื่องนะจ๊ะ เพราะกระเป๋าโหลดไปแล้ว\\n\\n16.30 นั่ง bus S1 กลับสนามบิน\\n\\n17.00 ถึงสนามบิน เข้าตม.ได้เลย อาหารเย็นก้อร้านอาหารใน gate \\n\\n20.05 เดินทางกลับ \\n\\n22.50 ถึงสนามบินภูเก็ต\\n\\n------\\n\\nได้แผนการเดินทางแล้ว Step ต่อไปก้อคำนวณค่าใช้จ่ายเพื่อเตรียมแลกเงินไปใช้ที่ฮองกง \\n\\nอัตราแลกเปลี่ยน 1 dhk = 4.15 บาท(มีนา62)\\n\\nค่าอาหารที่ฮองกงจานล่ะ 50-70\\n\\nค่าอาหาร 70 x3มื้อ x3วัน =630 dhk\\n\\nค่าบัตร octopus150 เติมเงินเพิ่ม 50 =200dhk\\n\\nค่าตั๋วเข้า sky pass ที่ the peak\\xa0\\xa0 52 dhk\\n\\nค่าช๊อปปิ้ง/ของฝาก 418 dhk\\n\\n😀สรุปแลกเงิน 1300 dhk = 5400\\n\\nบัตรเข้าดิสนีย์แลนด์ 2285 บาท และบัตรกระเช้าคริสตัลพื้นใส 937 บาทแนะนำให้ซื้อผ่าน App klook จะได้ไม่เสียเวลาไปต่อคิวซื้อตั๋ว จ่ายผ่านบัตรเครดิตไปเลยจ้า\\n\\n😆สรุปค่าใช้จ่ายทั้งหมด😆\\n\\n😀แลกเงิน1300 dhk (5400บาท)\\n\\n😀ค่าตั๋วเครื่องบิน 3846 บาท\\n\\n😀ค่าที่พัก 2800×2คืน=5600÷2คน=2800\\n\\n😀ค่าบัตรดิสนีย์แลนด์ 2285\\n\\n😀ค่าบัตรกระเช้าคริสตัล 937\\n\\nรวม 15268/คน\\xa0 \\n\\nแต่ถ้าใครตั้งใจมาไหว้พระขอพร ไม่เข้าดิสนีย์แลนด์ ก็ประหยัดงบไปอีก 2285 บาท นะจ๊ะ เพราะทุกวัดไม่ต้องจ่ายค่าเข้าชมจ้าปรับแผนโปรแกรมเที่ยววัดตามใจชอบเลยจ้า\\n\\nเอาล่ะทุกอย่างพร้อม\\n\\nเราออกเดินทางกันเลยจ้า\\t\\t\\t\\t\\t\\t\\t\\t\\t\\n\\n'"
            ]
          },
          "metadata": {
            "tags": []
          },
          "execution_count": 17
        }
      ]
    },
    {
      "cell_type": "code",
      "metadata": {
        "colab": {
          "base_uri": "https://localhost:8080/",
          "height": 107
        },
        "id": "1eIDIlmX4onG",
        "outputId": "b5950bc2-f643-46e5-c97d-f29fa64d07b2"
      },
      "source": [
        "import re\n",
        "re.sub(cut_string, \"\", test)"
      ],
      "execution_count": null,
      "outputs": [
        {
          "output_type": "execute_result",
          "data": {
            "application/vnd.google.colaboratory.intrinsic+json": {
              "type": "string"
            },
            "text/plain": [
              "'test test 😀เริ่มจากเดือนกันยายนปีที่แล้ว เริ่มวางแผน trip ตะลุย hong kong โดยกำหนดเดินทางเดือน มีนาคม 62 จากนั้นก็ตั้งตารอคอยโปรโมชั่นตั๋วถูก ในที่สุดส้มหล่นค่ะ ได้ตั๋วไปกลับ ภูเก็ต  ฮองกง จาก www.hxexpress.com ในราคา 3400 รวมค่าธรรมเนียมบัตรเครดิต = 3846 บาท โอแม่จ้าว ถูกมวากก จากราคาปกติประมาณ 6000 บาท ราคานี้คือลากกระเป๋าขึ้นเครื่องนะค่ะ ถ้าจะ load กระเป๋าจ่ายเพิ่มเที่ยวล่ะ 990 บาทจ้า😀เมื่อได้ตั๋วแล้ว step ต่อไปคือการหาที่พัก เราทำการบ้านอย่างหนัก ในการเลือกโรงแรม โดยมี เงื่อนไขการจองโรงแรม 1.งบไม่เกิน 2,500 บาทต่อคืน 2.ขอเป็นโรงแรมไม่เอา guest house เพราะ guest house ห้องเล็กมากกก ไม่มีทางเดินในห้อง เปิดประตูปุ๊บจะเจอปลายเตียงทันที ห้องแบบโรงแรมยังพอมีทางเดินในห้องบ้างพอให้หายใจโล่งๆ 3. ขอโรงแรมใกล้สถานีรถไฟฟ้า เดินไม่เกิน 300 เมตร เพราะขี้เกียจเดินค่ะ 4.ขอโรงแรมที่เป็นจุดจอดของรถรับส่งสนามบิน เพราะขี้เกียจลากกระเป๋าไปขึ้นรถ หุหุ เงื่อนไขเจ้เยอะไปป่าว สุดท้ายมาลงตัวที่ NOBEL PARK HOTEL ย่าน Jodan จองผ่าน www.booking.com ในราคา 2800 บาท/คืน เกิน budget ไปนิดหน่อย ไม่เป็นไร แลกกับเงื่อนไขไม่เดินไกลของเจ้ เรียบร้อยทั้งตั๋วและที่พัก ข้อดีของโรงแรมนี้คือบริการตู้กดน้ำดื่มหน้าลิฟท์ทุกชั้น ผ้าขนหนูฟรี รับฝากกระเป๋าฟรี อุปกรณ์อาบน้ำฟรี😀มาวางแผนการท่องเที่ยวในแต่ละวันกันค่ะ โอ้วพอศึกษาเข้าจริงๆ ฮองกงมีที่เที่ยวเยอะมากก จนทริป 3วัน2คืน เวลาไม่พอ อยากเปลี่ยนเป็น 4วัน3คืน จุงเบย แต่ไม่ทันล่ะ เลือกไฮไลท์ที่อยากไปล่ะกัน สถานที่เที่ยวทั้งหมดใช้แผนที่ MTR ฮ่องกง เป็นหลักเลยค่ะสำหรับการเดินทางจากสนามบินไปโรงแรม เราเลือกใช้ บริการ bus สาย A21 เป็นสายที่เข้าเมืองและจุดจอดหน้าทางเข้าโรงแรมพอดีแป๊ะตามคอนเซปไม่ลากกระเป๋าไกลของเจ้ 555 _____Day 18.30 พร้อมกันสนามบินภูเก็ต มีไฟล์แรกของวันคือ 04.00 น. นะค่ะ แต่ไม่ได้เลือก เนื่องจากบ้านไกลจากสนามบิน ต้องออกจากบ้านตั้งแต่ห้าทุ่ม เท่ากับคืนนั้นไม่ได้นอนเลย เจ้ไม่ไหวค่ะ วัยรุ่นอาจจะเหมาะกว่า ได้เที่ยวมากขึ้นด้วยนะค่ะ11.50 ออกเดินทาง16.10 ถึงสนามบินฮองกง แวะซื้อบัตร octoous เป็นบัตรใช้จ่ายค่ารถไฟฟ้า ค่ารถบัส ซื้อของร้านสะดวกซื้อ เดินออกมาตามป้าย Bus Terminal ไปที่จุดจอด bus A21ขึ้น Bus A21 ลงป้าย10จุดจอด nathan hotel รร.ที่เราพักอยู่ซอยข้างๆ nathan holtel จ้า17.30 เดินเข้าซอย 50 เมตร เชคอิน รร.โนเบลพาร์ค มีค่ามัดจำ 500 hk$ รับคืนวันกลับ18.00 ขึ้นรถไฟฟ้า mtr ลงสถานีจิมซาจุ่ยออก exit J: avenue of start, 18.45 อาหารเย็น deli wine อยู่ใต้อาคารศูนย์วัฒนธรรม ที่เราจะไปดูไฟ20.00 รอที่ clock tower จุดดู symphony of light 20.30 นั่ง mtr ไปลงสถานีมงก๊ก ออก exit D ช๊อปปิ้งตลาด lady market ประกอบ 3 เส้นหลัก lady st. เสื้อผ้ากระเป๋าเหมือนสำเพ็ง Fayern st. Shopรองเท้า tung choi st. ขายเสื้อผ้าสินค้ากลุ่มวัยรุ่น22.30 แวะชิมก๋วยเตี๋ยวลูกชิ้นปลาก่อนกลับโรงแรม นั่ง mtr ไปลงสถานีจอร์แดน ออก exit B1 เดิน 300 เมตรถึงโรงแรม_____Day 28.00 พร้อมกันที่ lobby โรงแรม กินโจ๊กร้านดังข้างโรงแรม9.00 ขึ้น mtr ลงสถานีเซนทรัล exit A เดินไปต่อ Bus Terminal สาย 15 ไป the peak ชมวิว360 ของฮองกง ซื้อบัตร sky pass 52dhk  ขาลงซื้อบัตรรถราง single tram ลงมาถึงข้างล่าง จะเดินเข้า mtr ได้เลย12.00แวะกินข้างเที่ยงที่ mtr ก่อนไปตะลุยดีสนีย์ทั้งวัน 20.00 อาหารเย็น ก่อนปิดท้ายด้วยไฮไลท์ขบวนพาเหรด21.00 กลับโรงแรม_____Day 38.00 พร้อมกันที่ lobby check out เสร็จแล้วเดินไปโรงแรม eaton ซอยถัดไปจากโรงแรมที่เราพัก เพื่อรอรถที่ป้ายจอด shutter bus สาย K1 เพื่อไปสถานีรถไฟเกาลูน ขึ้นได้เลยไม่มีค่าใช้จ่าย เมื่อลงจาก bus ก้อเข้าในอาคาร แวะซื้อตั๋ว AE 62 dhkไปสนามบิน แล้วก้อ เข้าไป check in town in town กับสายการ hx express เราก้อจะได้ load กระเป๋า และรับตั๋วไฟล์กลับภูเก็ตเลย จากนั้นเราก้อเดินตัวปลิวไปเที่ยวต่อโดยใช้ บัตร AE แตะเข้าไป เพื่อขึ้นรถไฟฟ้าไปสนามบินเลยจ้า9.00 ถึงสนามบิน ลงจากรถไฟ AE เดินออกนอกอาคาร ไปตามป้าย bus terminal ไปที่ จุดจอด bus S1 ไป สถานี Tung Chung เพื่อไปวัดนองปิง ไหว้พระใหญ่ ลงที่สถานี Tung Chung เดินไปทางกระเช้า 360 องศา เพื่อซื้อตั๋วกระเช้าข้ามทะเลไปบนเขานองปิง ลงจากกระเช้าก้อเที่ยวตามอัธยาศัยเลยจ้า 12.00 กลับมากินข้าวเที่ยงและshopping ที่ Citygate Outlet ต้องหิ้วขึ้นเครื่องนะจ๊ะ เพราะกระเป๋าโหลดไปแล้ว16.30 นั่ง bus S1 กลับสนามบิน17.00 ถึงสนามบิน เข้าตม.ได้เลย อาหารเย็นก้อร้านอาหารใน gate 20.05 เดินทางกลับ 22.50 ถึงสนามบินภูเก็ตได้แผนการเดินทางแล้ว Step ต่อไปก้อคำนวณค่าใช้จ่ายเพื่อเตรียมแลกเงินไปใช้ที่ฮองกง อัตราแลกเปลี่ยน 1 dhk = 4.15 บาทมีนา62ค่าอาหารที่ฮองกงจานล่ะ 5070ค่าอาหาร 70 x3มื้อ x3วัน =630 dhkค่าบัตร octopus150 เติมเงินเพิ่ม 50 =200dhkค่าตั๋วเข้า sky pass ที่ the peak 52 dhkค่าช๊อปปิ้ง/ของฝาก 418 dhk😀สรุปแลกเงิน 1300 dhk = 5400บัตรเข้าดิสนีย์แลนด์ 2285 บาท และบัตรกระเช้าคริสตัลพื้นใส 937 บาทแนะนำให้ซื้อผ่าน App klook จะได้ไม่เสียเวลาไปต่อคิวซื้อตั๋ว จ่ายผ่านบัตรเครดิตไปเลยจ้า😆สรุปค่าใช้จ่ายทั้งหมด😆😀แลกเงิน1300 dhk 5400บาท😀ค่าตั๋วเครื่องบิน 3846 บาท😀ค่าที่พัก 2800×2คืน=5600÷2คน=2800😀ค่าบัตรดิสนีย์แลนด์ 2285😀ค่าบัตรกระเช้าคริสตัล 937รวม 15268/คน แต่ถ้าใครตั้งใจมาไหว้พระขอพร ไม่เข้าดิสนีย์แลนด์ ก็ประหยัดงบไปอีก 2285 บาท นะจ๊ะ เพราะทุกวัดไม่ต้องจ่ายค่าเข้าชมจ้าปรับแผนโปรแกรมเที่ยววัดตามใจชอบเลยจ้าเอาล่ะทุกอย่างพร้อมเราออกเดินทางกันเลยจ้า'"
            ]
          },
          "metadata": {
            "tags": []
          },
          "execution_count": 18
        }
      ]
    },
    {
      "cell_type": "code",
      "metadata": {
        "colab": {
          "base_uri": "https://localhost:8080/"
        },
        "id": "77MAdd2E7lHG",
        "outputId": "fb316338-5aa6-4067-d891-b5f7ce02827e"
      },
      "source": [
        "print(\"Before\")\n",
        "print(df_content['title'].iloc[4])\n",
        "print(\"After\")\n",
        "print(re.sub(cut_string, \"\", df_content['title'].iloc[4]))"
      ],
      "execution_count": null,
      "outputs": [
        {
          "output_type": "stream",
          "text": [
            "Before\n",
            "📌 แจกพิกัด 6 ทุ่งดอกไม้หลากสีทั่วญี่ปุ่น ที่ไม่ควรพลาด | MeTrip\n",
            "After\n",
            "📌 แจกพิกัด 6 ทุ่งดอกไม้หลากสีทั่วญี่ปุ่น ที่ไม่ควรพลาด  MeTrip\n"
          ],
          "name": "stdout"
        }
      ]
    },
    {
      "cell_type": "code",
      "metadata": {
        "id": "07tqS6FE01PK"
      },
      "source": [
        "df_content['clean_content'] = df_content['title'] + df_content['content']\n",
        "df_content['clean_content'] = df_content['clean_content'].apply(lambda x: re.sub(cut_string, \"\", x))"
      ],
      "execution_count": null,
      "outputs": []
    },
    {
      "cell_type": "code",
      "metadata": {
        "colab": {
          "base_uri": "https://localhost:8080/",
          "height": 615
        },
        "id": "YZ98gBDbv_Iq",
        "outputId": "b86cf70a-ef98-4788-c73b-e9acfbd157ba"
      },
      "source": [
        "Tags_ = [i[0] for i in Top_tags]\n",
        "Count_ = [i[1] for i in Top_tags]\n",
        "\n",
        "font = {'size': 22}\n",
        "plt.rc('font', **font)\n",
        "plt.figure(figsize=(20, 7))\n",
        "plt.bar(Tags_, Count_)\n",
        "plt.xticks(rotation=90)\n",
        "plt.show()"
      ],
      "execution_count": null,
      "outputs": [
        {
          "output_type": "display_data",
          "data": {
            "image/png": "[encoded data removed]",
            "text/plain": [
              "<Figure size 1440x504 with 1 Axes>"
            ]
          },
          "metadata": {
            "tags": [],
            "needs_background": "light"
          }
        }
      ]
    },
    {
      "cell_type": "markdown",
      "metadata": {
        "id": "5clOStUyDYxC"
      },
      "source": [
        "## Tokenizer"
      ]
    },
    {
      "cell_type": "code",
      "metadata": {
        "id": "w5kEOhleDfKP"
      },
      "source": [
        "!pip install pythainlp\n",
        "from pythainlp.tokenize import word_tokenize\n",
        "from pythainlp.tokenize import syllable_tokenize"
      ],
      "execution_count": null,
      "outputs": []
    },
    {
      "cell_type": "code",
      "metadata": {
        "id": "Gnr7a9d4FDvR"
      },
      "source": [
        "X = df_content['clean_content'].tolist()"
      ],
      "execution_count": null,
      "outputs": []
    },
    {
      "cell_type": "code",
      "metadata": {
        "colab": {
          "base_uri": "https://localhost:8080/",
          "height": 86
        },
        "id": "hIHa1-uqyiqJ",
        "outputId": "50a18833-d057-4b95-c258-ecaa67df239c"
      },
      "source": [
        "df_content['clean_content'].tolist()[0]"
      ],
      "execution_count": null,
      "outputs": [
        {
          "output_type": "execute_result",
          "data": {
            "application/vnd.google.colaboratory.intrinsic+json": {
              "type": "string"
            },
            "text/plain": [
              "'ทริปเกาะเสม็ด 3 วัน 2 คืน วันที่สองที่ทรายแก้วบีช หาดทรายแก้ว ต่อจากคืนแรกที่ เลอวิมานคืนแรกที่เลอวิมาน อ่าวพร้าว เสม็ดhttps://pantip.com/topic/4063985325 มีค 2021มาต่อกันที่หาดทรายแก้ว ที่นี่มีร้านค้า ร้านอาหารให้บริการพลุกพล่านกว่าที่อ่าวพร้าวมาก รถสองแถวจากเลอวิมาน อ่าวพร้าวพาเราถึงที่พัก หาดทรายแก้วบีชใช้เวลาไม่นานประมาณ 1015 นาทีทรายแก้วบีชเป็นโรงแรมในเครือเดียวกับเลอวิมาน อ่าวพร้าวรีสอร์ทและปารดี ห้องพักที่นี่ใหม่สะดวกสบาย ติดทะเลมีหลายโซนให้เลือกพัก ไลน์อาหารเช้าเยอะและมีบริการรับส่งฟรีไปกลับจากท่าเรืออ่าวพร้าวเช่นกัน ที่ตั้งของรีสอร์ทจะอยู่ท้ายหาดจึงมีความเป็นส่วนตัว เงียบกว่าโซนอื่น จากที่เดินสำรวจที่นี่เป็นรีสอร์ทที่ดีที่สุดในหาดทรายแก้วค่ะ '"
            ]
          },
          "metadata": {
            "tags": []
          },
          "execution_count": 32
        }
      ]
    },
    {
      "cell_type": "code",
      "metadata": {
        "id": "OP_iD4GdDa8y"
      },
      "source": [
        "# Tokenize\n",
        "word_to_idx ={}\n",
        "idx_to_word ={}\n",
        "\n",
        "content = df_content['clean_content'].tolist()\n",
        "\n",
        "new_content = []\n",
        "for sentence in content:\n",
        "  text = word_tokenize(sentence, engine=\"newmm\")\n",
        "  for word in text:\n",
        "    if word not in word_to_idx:\n",
        "      word_to_idx[word] = len(word_to_idx) + 1\n",
        "      idx_to_word[word_to_idx[word]] = word\n",
        "  new_content.append(text)\n",
        "word_to_idx['UNK'] = len(word_to_idx)\n",
        "content_newmm = new_content\n",
        "\n",
        "del new_content"
      ],
      "execution_count": null,
      "outputs": []
    },
    {
      "cell_type": "code",
      "metadata": {
        "id": "ekhe2_rD1ev8"
      },
      "source": [
        "vocab_size = len(word_to_idx)"
      ],
      "execution_count": null,
      "outputs": []
    },
    {
      "cell_type": "code",
      "metadata": {
        "id": "z4aAWvx-6XXo"
      },
      "source": [
        "# content to sequences\n",
        "content_seq = []\n",
        "for c in content_newmm:\n",
        "  temp = []\n",
        "  for word in c:\n",
        "    if word in word_to_idx:\n",
        "      temp.append(word_to_idx[word])\n",
        "    else:\n",
        "      temp.append(word_to_idx['UNK'])\n",
        "  content_seq.append(temp)"
      ],
      "execution_count": null,
      "outputs": []
    },
    {
      "cell_type": "code",
      "metadata": {
        "id": "Fre5Iuke5aA0"
      },
      "source": [
        "content_lengths = []\n",
        "\n",
        "for i in content_newmm:\n",
        "    content_lengths.append(len(i))"
      ],
      "execution_count": null,
      "outputs": []
    },
    {
      "cell_type": "code",
      "metadata": {
        "id": "UdaQkU6d5liO"
      },
      "source": [
        "max_length = int(pd.Series(content_lengths).quantile(0.8))"
      ],
      "execution_count": null,
      "outputs": []
    },
    {
      "cell_type": "code",
      "metadata": {
        "id": "zNmPuW0t53yk"
      },
      "source": [
        "from keras.preprocessing.sequence import pad_sequences\n",
        "padded_content = pad_sequences(content_seq, maxlen=max_length, padding='post', truncating='post')"
      ],
      "execution_count": null,
      "outputs": []
    },
    {
      "cell_type": "code",
      "metadata": {
        "colab": {
          "base_uri": "https://localhost:8080/"
        },
        "id": "NGW3Lwnt9xTZ",
        "outputId": "afffc0a2-7f35-4554-ea09-f1e40c75660b"
      },
      "source": [
        "print(content_newmm[2])\n",
        "print(content_seq[2])\n",
        "print(padded_content[2])"
      ],
      "execution_count": null,
      "outputs": [
        {
          "output_type": "stream",
          "text": [
            "['พา', 'ชม', 'สนามกอล์ฟ', 'ศูนย์', 'สร้าง', 'ทาง', 'ลำปาง', 'กรมทางหลวง', ' ', 'ยุค', 'เริ่ม', 'โควิด', 'ระลอก', '3...', 'สนาม', 'ให้', 'บรรยากาศ', 'ลูกทุ่ง', 'แผ่นดิน', 'ทอง', 'ดี', 'ครับ', 'ใบ', 'สน', 'ร่วง', 'ให้', 'ฟี', 'ล', 'แผ่นดิน', 'สี', 'ทอง', ' ', 'สวย', 'ไป', 'อีก', 'แบบ', 'ครับ', 'ช่วง', 'หน้าร้อน', ' ', 'รักษา', 'กรีน', 'ไป', 'ก่อน', 'นะ', 'ครับ', 'พา', 'ไป', 'ชม', ' ', 'สนาม', 'เข', 'ลาง', 'ค์', 'นคร', ' ', 'ของ', ' ', 'ทหารบก', ' ', 'แล้ว', 'บ่าย', 'วันเดียวกัน', 'นั้น', 'ก็', 'ไป', 'ต่อ', 'ที่', ' ', 'สนาม', 'ศูนย์', 'สร้าง', 'ทาง', 'ลำปาง', ' ', 'ของ', ' ', 'กรมทางหลวง', 'ผม', 'เคย', 'สงสัย', 'ว่า', 'มี', 'สนาม', 'ทหาร', ' ', 'สนาม', 'ตำรวจ', ' ', 'สนาม', 'เขื่อน', 'แล้ว', 'เพิ่ง', 'รู้', 'ว่า', 'มี', ' ', 'สนาม', 'กรมทางหลวง', ' ', 'สังกัด', ' ', 'กระทรวงคมนาคม', ' ', 'ก็', 'ครั้งนี้', 'เคย', 'ดู', 'รีวิว', 'สนาม', 'นี้', 'ของ', 'พี่', ' ', 'GumpzZ', ' ', 'เมื่อ', 'หลาย', 'ปีก่อน', 'สนาม', 'นี้', 'ไป', 'ตี', 'มา', 'เมื่อ', ' ', '5', ' ', 'เม.ย.', ' ', '64', ' ', 'โท', '.', 'ไป', 'ถาม', 'ก่อน', ' ', 'สนาม', 'บอ', 'กว่า', 'ช่วงนี้', 'วัน', 'ธรรมดา', 'จะ', 'เปิด', ' ', '15', ':', '00', ' ', 'น.', 'ทาง', 'สนาม', 'ถาม', 'ว่า', 'จะ', 'มาตี', 'วันที่', ' ', '6', ' ', 'แทน', 'ไหม', 'เพราะ', 'เป็น', 'วันหยุด', ' ', 'ออ', 'กรอบ', 'ได้', 'ตั้ง', 'แต่เช้า', 'แต่', 'ผม', 'กะ', 'จะ', 'ไป', 'ต่อ', 'สนาม', 'แม่', 'เมาะ', ' ', 'เลย', 'ตี', 'บ่าย', 'วันนั้น', 'เลย', 'ครับ', 'ตอนนั้น', 'ยัง', 'ไม่', 'มี', 'ข่าว', 'โควิด', 'ใน', 'ลำปาง', 'ครับ', 'ปล.', 'สนาม', 'นี้', 'ให้', ' ', '3.5', '/', '5', ' ', 'คือ', 'สภาพ', 'สนาม', 'อาจ', 'ไม่', 'ดี', 'นัก', ' ', 'แต่', 'ราคา', 'ถูก', 'มาก', ' ', 'ได้', 'บรรยากาศ', 'ลูกทุ่ง', 'ดี', 'ครับ', 'ทั้ง', 'ยัง', 'ได้', 'เดิน', 'ออกกำลังกาย', 'เพราะ', 'ไม่', 'มี', 'รถ', 'กอล์ฟ', 'ให้', 'ถ้า', 'ไม่', 'โท', '.', 'มา', 'จอง', 'ก่อน', 'อาจ', 'ไม่', 'ได้', 'แค', 'ดดี้', 'ด้วย', 'ต้อง', 'ลาก', 'ถุง', 'เอง', 'เหมือน', 'สนาม', 'อ่าว', 'มะนาว', ' ', 'ประจวบคีรีขันธ์', 'สนาม', 'อ่าว', 'มะนาว', 'อยู่', 'ใน', 'เขต', 'ทหาร', ' ', 'กอง', 'บิน', ' ', '5', ' ', 'ชื่อ', 'เดิม', 'กอง', 'บิน', ' ', '53', ' ', 'กองทัพอากาศ', 'วันนี้', 'ตื่น', 'มา', 'โพสต์', 'เช้า', 'หน่อย', ' ', 'เพราะ', 'ตื่น', 'มา', 'เชียร์', 'ทีม', 'รัก', 'เข้ารอบ', ' ', '4', ' ', 'ทีม', 'ยูฟ่า', 'แชมเปี้ยน', 'ไป', 'แล้ว', 'ครับ', 'สนาม', 'นี้', 'ที่', 'พี่', ' ', 'GumpzZ', ' ', 'เคย', 'โพสต์', 'ไว้', ' ', '>>>', '๐๐๐', ' ', 'สนามกอล์ฟ', 'ศูนย์', 'สร้าง', 'ทาง', 'ลำปาง', ' ', '๐๐๐', ' ', '11', ' ', 'มกราคม', ' ', '2558', ' ', 'https', '://', 'pantip', '.', 'com', '/', 'topic', '/', '33089063', 'สนาม', 'ที่', 'ผม', 'เล่น', 'ตอนเช้า', ' ', '>>>', 'พา', 'ชม', ' ', 'สนามกอล์ฟ', ' ', 'เข', 'ลาง', 'ค์', 'นคร', ' ', 'ค่าย', 'สุรศักดิ์มนตรี', ' ', 'ลำปาง', ' ', 'ยุค', 'เริ่ม', 'โควิด', 'ระลอก', ' ', '3...', 'สนาม', 'ทหาร', 'ราคา', 'สบาย', 'กระเป๋า', ' ', 'ดีกว่า', 'ที่', 'คิด', 'ครับ', ' ', 'https', '://', 'pantip', '.', 'com', '/', 'topic', '/', '40633964', 'สนาม', 'อ่าว', 'มะนาว', ' ', '>>>', ' ', 'ลาก', 'ถุง', 'เอง', 'ครั้ง', 'แร', 'ก.', '..', 'ที่', 'อ่าว', 'มะนาว', 'ครับ', ' ', '1', ' ', 'ธ.ค.', ' ', '54', ' ', 'http', '://', 'topicstock', '.', 'pantip', '.', 'com', '/', 'supachalasai', '/', 'topicstock', '/', '2011', '/', '12', '/', 'S', '11403432', '/', 'S', '11403432.', 'html', 'นำ', 'กระทู้', 'เที่ยว', 'ลำปาง', 'บรรยากาศ', 'เก่าๆ', 'ของ', 'ผม', 'มา', 'แปะ', 'ไว้', 'ถ้า', 'ท่าน', 'ใด', 'สนใจ', 'ที่', 'กิน', 'ที่เที่ยว', 'ใน', 'ลำปาง', 'ครับ', 'ลำปาง', 'ไม่', 'ไป', 'ไม่', 'ได้', 'แล้ว', '...ชม', 'วัด', 'กิน', 'อาหาร', 'เมือง', 'เล่น', 'กอล์ฟ', 'ขี่', 'จักรยาน', 'พัก', 'รีสอร์ต', 'งด', 'งา', 'ม.', '..', 'ตอนที่', '1', 'ครับ', '>>>', 'https', '://', 'pantip', '.', 'com', '/', 'topic', '/', '32403552', 'ลำปาง', 'ไม่', 'ไป', 'ไม่', 'ได้', 'แล้ว', '...ชม', 'วัด', 'กิน', 'อาหาร', 'เมือง', 'เล่น', 'กอล์ฟ', 'ขี่', 'จักรยาน', 'พัก', 'รีสอร์ต', 'งด', 'งา', 'ม.', '..', 'ตอนที่', '2', 'จบ', 'ครับ', '>>>', 'https', '://', 'pantip', '.', 'com', '/', 'topic', '/', '32407208', ' ']\n",
            "[42, 192, 196, 197, 198, 199, 200, 201, 4, 202, 203, 204, 205, 206, 207, 68, 160, 208, 209, 210, 93, 194, 211, 212, 213, 68, 214, 215, 209, 216, 210, 4, 217, 78, 150, 186, 194, 218, 219, 4, 220, 221, 78, 222, 223, 194, 42, 78, 192, 4, 207, 224, 225, 226, 227, 4, 83, 4, 228, 4, 229, 230, 231, 232, 173, 78, 14, 10, 4, 207, 197, 198, 199, 200, 4, 83, 4, 201, 233, 234, 235, 125, 29, 207, 236, 4, 207, 237, 4, 207, 238, 229, 239, 240, 125, 29, 4, 207, 201, 4, 241, 4, 242, 4, 173, 243, 234, 244, 245, 207, 169, 83, 246, 4, 247, 4, 248, 66, 249, 207, 169, 78, 250, 32, 248, 4, 251, 4, 252, 4, 253, 4, 254, 24, 78, 255, 222, 4, 207, 180, 39, 256, 6, 257, 84, 258, 4, 259, 260, 261, 4, 262, 199, 207, 255, 125, 84, 263, 264, 4, 265, 4, 266, 267, 268, 52, 269, 4, 270, 271, 177, 272, 273, 274, 233, 275, 84, 78, 14, 207, 107, 276, 4, 174, 250, 230, 277, 174, 194, 278, 279, 47, 29, 280, 204, 95, 200, 194, 281, 207, 169, 68, 4, 282, 26, 251, 4, 283, 284, 207, 285, 47, 93, 286, 4, 274, 287, 288, 40, 4, 177, 160, 208, 93, 194, 165, 279, 177, 91, 289, 268, 47, 29, 290, 291, 68, 292, 47, 254, 24, 32, 293, 222, 285, 47, 177, 294, 295, 130, 158, 296, 297, 298, 299, 207, 19, 300, 4, 301, 207, 19, 300, 85, 95, 302, 236, 4, 303, 304, 4, 251, 4, 305, 306, 303, 304, 4, 307, 4, 308, 309, 310, 32, 311, 312, 313, 4, 268, 310, 32, 314, 315, 316, 317, 4, 318, 4, 315, 319, 320, 78, 229, 194, 207, 169, 10, 246, 4, 247, 4, 234, 311, 321, 4, 322, 323, 4, 196, 197, 198, 199, 200, 4, 323, 4, 324, 4, 325, 4, 326, 4, 21, 22, 23, 24, 25, 26, 27, 26, 327, 207, 10, 233, 328, 329, 4, 322, 42, 192, 4, 196, 4, 224, 225, 226, 227, 4, 330, 331, 4, 200, 4, 202, 203, 204, 205, 4, 206, 207, 236, 287, 332, 333, 4, 334, 10, 335, 194, 4, 21, 22, 23, 24, 25, 26, 27, 26, 336, 207, 19, 300, 4, 322, 4, 296, 297, 298, 337, 338, 339, 340, 10, 19, 300, 194, 4, 119, 4, 341, 4, 342, 4, 343, 22, 344, 24, 23, 24, 25, 26, 345, 26, 344, 26, 346, 26, 347, 26, 348, 349, 26, 348, 350, 351, 352, 353, 354, 200, 160, 355, 83, 233, 32, 356, 321, 292, 357, 358, 359, 10, 360, 361, 95, 200, 194, 200, 47, 78, 47, 177, 229, 362, 363, 360, 364, 365, 328, 291, 366, 367, 70, 102, 368, 369, 370, 340, 371, 119, 194, 322, 21, 22, 23, 24, 25, 26, 27, 26, 372, 200, 47, 78, 47, 177, 229, 362, 363, 360, 364, 365, 328, 291, 366, 367, 70, 102, 368, 369, 370, 340, 371, 7, 373, 194, 322, 21, 22, 23, 24, 25, 26, 27, 26, 374, 4]\n",
            "[ 42 192 196 ...   0   0   0]\n"
          ],
          "name": "stdout"
        }
      ]
    },
    {
      "cell_type": "code",
      "metadata": {
        "colab": {
          "base_uri": "https://localhost:8080/"
        },
        "id": "AK4RXOwFAd30",
        "outputId": "f919fade-dd6a-44d7-b9b6-5bdd397a9ec9"
      },
      "source": [
        "padded_content.shape, y.shape"
      ],
      "execution_count": null,
      "outputs": [
        {
          "output_type": "execute_result",
          "data": {
            "text/plain": [
              "((10000, 1288), (10000, 70))"
            ]
          },
          "metadata": {
            "tags": []
          },
          "execution_count": 42
        }
      ]
    }
  ]
}