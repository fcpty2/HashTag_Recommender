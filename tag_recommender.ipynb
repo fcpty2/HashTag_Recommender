{
  "nbformat": 4,
  "nbformat_minor": 0,
  "metadata": {
    "colab": {
      "name": "tag_recommender.ipynb",
      "provenance": [],
      "collapsed_sections": []
    },
    "kernelspec": {
      "name": "python3",
      "display_name": "Python 3"
    },
    "language_info": {
      "name": "python"
    }
  },
  "cells": [
    {
      "cell_type": "markdown",
      "metadata": {
        "id": "P9Fr0Dg8QzS7"
      },
      "source": [
        "## Preprocess data"
      ]
    },
    {
      "cell_type": "code",
      "metadata": {
        "id": "IjGwq9LCXtaC"
      },
      "source": [
        "import requests\n",
        "import pandas as pd\n",
        "import numpy as np\n",
        "import matplotlib.pyplot as plt\n",
        "from pandas import json_normalize\n",
        "import json\n",
        "from collections import Counter\n",
        "import re"
      ],
      "execution_count": null,
      "outputs": []
    },
    {
      "cell_type": "code",
      "metadata": {
        "id": "keUdhGGzRw84"
      },
      "source": [
        "import tensorflow as tf\n",
        "from tensorflow.keras.preprocessing import sequence\n",
        "from tensorflow.keras.models import Sequential, Model\n",
        "from tensorflow.keras.layers import GRU, Dropout\n",
        "from tensorflow.keras.models import load_model\n",
        "from tensorflow.keras.layers import Embedding, Reshape, Activation, Input, Dense,Flatten, SpatialDropout1D, concatenate\n",
        "from tensorflow.keras.layers import LSTM,Reshape,TimeDistributed,Bidirectional,Dropout,Masking,Conv1D, Conv2D,MaxPool2D,GlobalAveragePooling1D, GlobalMaxPooling1D, GlobalMaxPool1D, MaxPooling1D\n",
        "from tensorflow.python.keras.layers.merge import Dot\n",
        "from tensorflow.keras.utils import plot_model\n",
        "from tensorflow.python.keras.utils import np_utils\n",
        "from tensorflow.python.keras.utils.data_utils import get_file\n",
        "from tensorflow.python.keras.utils.np_utils import to_categorical\n",
        "from tensorflow.keras.preprocessing.sequence import skipgrams\n",
        "from tensorflow.keras.preprocessing import sequence\n",
        "from tensorflow.keras import backend as K\n",
        "from tensorflow.keras.optimizers import Adam\n",
        "from keras.callbacks import EarlyStopping, ModelCheckpoint"
      ],
      "execution_count": null,
      "outputs": []
    },
    {
      "cell_type": "code",
      "metadata": {
        "id": "5YHyQLsHggBd"
      },
      "source": [
        "!wget -q http://www.arts.chula.ac.th/ling/wp-content/uploads/TH-Sarabun_Chula1.1.zip -O font.zip\n",
        "!unzip -qj font.zip TH-Sarabun_Chula1.1/THSarabunChula-Regular.ttf\n",
        "import matplotlib as mpl\n",
        "mpl.font_manager.fontManager.addfont('THSarabunChula-Regular.ttf')\n",
        "mpl.rc('font', family='TH Sarabun Chula')"
      ],
      "execution_count": null,
      "outputs": []
    },
    {
      "cell_type": "code",
      "metadata": {
        "id": "sVELIT0FM-np"
      },
      "source": [
        "# Load data\n",
        "df_content = pd.read_csv(\"pantip_scrapping.csv\")"
      ],
      "execution_count": null,
      "outputs": []
    },
    {
      "cell_type": "code",
      "metadata": {
        "colab": {
          "base_uri": "https://localhost:8080/"
        },
        "id": "Sc84Rs2HXD_P",
        "outputId": "a99345e6-8281-4df6-e97f-f5eea407ea31"
      },
      "source": [
        "df_content.head()"
      ],
      "execution_count": null,
      "outputs": [
        {
          "output_type": "execute_result",
          "data": {
            "text/html": [
              "<div>\n",
              "<style scoped>\n",
              "    .dataframe tbody tr th:only-of-type {\n",
              "        vertical-align: middle;\n",
              "    }\n",
              "\n",
              "    .dataframe tbody tr th {\n",
              "        vertical-align: top;\n",
              "    }\n",
              "\n",
              "    .dataframe thead th {\n",
              "        text-align: right;\n",
              "    }\n",
              "</style>\n",
              "<table border=\"1\" class=\"dataframe\">\n",
              "  <thead>\n",
              "    <tr style=\"text-align: right;\">\n",
              "      <th></th>\n",
              "      <th>topic_id</th>\n",
              "      <th>title</th>\n",
              "      <th>content</th>\n",
              "      <th>tags</th>\n",
              "    </tr>\n",
              "  </thead>\n",
              "  <tbody>\n",
              "    <tr>\n",
              "      <th>0</th>\n",
              "      <td>40643404</td>\n",
              "      <td>ทริปเกาะเสม็ด 3 วัน 2 คืน วันที่สองที่ทรายแก้ว...</td>\n",
              "      <td>\\r\\n\\t\\t\\t\\t\\t\\t\\t\\t\\t\\t\\t\\t\\t\\t\\t\\tคืนแรกที่เ...</td>\n",
              "      <td>[{'name': 'เกาะเสม็ด', 'slug': 'เกาะเสม็ด'}, {...</td>\n",
              "    </tr>\n",
              "    <tr>\n",
              "      <th>1</th>\n",
              "      <td>40643393</td>\n",
              "      <td>…  ธูษิฏา เวลเนส รีสอร์ต ชุมพร  Tusita Wellnes...</td>\n",
              "      <td>\\r\\n\\t\\t\\t\\t\\t\\t\\t\\t\\t\\t\\t\\t\\t\\t\\t\\t.     ธูษิ...</td>\n",
              "      <td>[{'name': 'บันทึกนักเดินทาง', 'slug': 'บันทึกน...</td>\n",
              "    </tr>\n",
              "    <tr>\n",
              "      <th>2</th>\n",
              "      <td>40643087</td>\n",
              "      <td>พาชม สนามกอล์ฟ ศูนย์สร้างทางลำปาง กรมทางหลวง (...</td>\n",
              "      <td>\\n\\nใบสนร่วงให้ฟีลแผ่นดินสีทอง สวยไปอีกแบบครับ...</td>\n",
              "      <td>[{'name': 'กอล์ฟ', 'slug': 'กอล์ฟ'}, {'name': ...</td>\n",
              "    </tr>\n",
              "    <tr>\n",
              "      <th>3</th>\n",
              "      <td>40642333</td>\n",
              "      <td>Copenhagen : Summer days - ฤดูร้อนในโคเปนเฮเกน...</td>\n",
              "      <td>\\r\\n\\t\\t\\t\\t\\t\\t\\t\\t\\t\\t\\t\\t\\t\\t\\t\\tทริปนี้เป็...</td>\n",
              "      <td>[{'name': 'โคเปนเฮเกน', 'slug': 'โคเปนเฮเกน'},...</td>\n",
              "    </tr>\n",
              "    <tr>\n",
              "      <th>4</th>\n",
              "      <td>40642260</td>\n",
              "      <td>📌 แจกพิกัด 6 ทุ่งดอกไม้หลากสีทั่วญี่ปุ่น ที่ไม...</td>\n",
              "      <td>\\nถ้าพูดถึงดอกไม้ของญี่ปุ่นหลายๆคนคงจะนึกถึงดอ...</td>\n",
              "      <td>[{'name': 'เที่ยวญี่ปุ่น', 'slug': 'เที่ยวญี่ป...</td>\n",
              "    </tr>\n",
              "  </tbody>\n",
              "</table>\n",
              "</div>"
            ],
            "text/plain": [
              "   topic_id  ...                                               tags\n",
              "0  40643404  ...  [{'name': 'เกาะเสม็ด', 'slug': 'เกาะเสม็ด'}, {...\n",
              "1  40643393  ...  [{'name': 'บันทึกนักเดินทาง', 'slug': 'บันทึกน...\n",
              "2  40643087  ...  [{'name': 'กอล์ฟ', 'slug': 'กอล์ฟ'}, {'name': ...\n",
              "3  40642333  ...  [{'name': 'โคเปนเฮเกน', 'slug': 'โคเปนเฮเกน'},...\n",
              "4  40642260  ...  [{'name': 'เที่ยวญี่ปุ่น', 'slug': 'เที่ยวญี่ป...\n",
              "\n",
              "[5 rows x 4 columns]"
            ]
          },
          "metadata": {
            "tags": []
          },
          "execution_count": 6
        }
      ]
    },
    {
      "cell_type": "markdown",
      "metadata": {
        "id": "WmhIVRqvnEjR"
      },
      "source": [
        "## Preprocess labels"
      ]
    },
    {
      "cell_type": "code",
      "metadata": {
        "id": "rPxTTf7fFSbq"
      },
      "source": [
        "tag_count = []\n",
        "tags_temp = []\n",
        "\n",
        "i = 0\n",
        "for index, row in df_content.iterrows():\n",
        "  tags = json.loads(json.dumps(eval(row['tags'])))\n",
        "  temp = []\n",
        "  for tag in tags:\n",
        "    temp.append(tag['slug'])\n",
        "    tag_count.append(tag['slug'])\n",
        "  tags_temp.append(temp)\n",
        "\n",
        "df_content['tags'] = tags_temp\n",
        "tag_count = Counter(tag_count)"
      ],
      "execution_count": null,
      "outputs": []
    },
    {
      "cell_type": "code",
      "metadata": {
        "id": "mKb9-S1Kq21O",
        "colab": {
          "base_uri": "https://localhost:8080/"
        },
        "outputId": "6fa87a8b-8187-4a2d-b849-c6672f5f2b54"
      },
      "source": [
        "n_tags = int(0.05*len(tag_count))\n",
        "Top_tags = sorted(tag_count.items(), key=lambda item: item[1], reverse=True)[:n_tags]\n",
        "print(Top_tags)"
      ],
      "execution_count": null,
      "outputs": [
        {
          "output_type": "stream",
          "text": [
            "[('บันทึกนักเดินทาง', 5099), ('เที่ยวไทย', 2957), ('เที่ยวต่างประเทศ', 2443), ('สถานที่ท่องเที่ยวต่างประเทศ', 1676), ('สถานที่ท่องเที่ยวในประเทศ', 1651), ('Backpack', 1435), ('โรงแรมรีสอร์ท', 1201), ('ภาพถ่ายทิวทัศน์', 1106), ('เที่ยวทะเล', 1067), ('เที่ยวญี่ปุ่น', 950), ('เที่ยวภูเขา', 833), ('ท่องเที่ยว', 727), ('สถานที่ท่องเที่ยว', 582), ('นักท่องเที่ยว', 551), ('One_Day_Trip', 535), ('ร้านอาหาร', 501), ('โรงแรมรีสอร์ทไทย', 467), ('ภาพถ่ายจากกล้องโทรศัพท์', 454), ('คาเฟ่_(Cafe)', 452), ('ประเทศญี่ปุ่น', 450), ('เที่ยวเชิงอนุรักษ์', 442), ('ภาพถ่าย', 426), ('สถานที่ท่องเที่ยวกรุงเทพฯ', 407), ('สถานที่ท่องเที่ยวสำหรับครอบครัว', 393), ('Slow_Life', 389), ('เที่ยวยุโรป', 361), ('เดินป่า', 332), ('แผนการเดินทางและท่องเที่ยว', 330), ('จังหวัดเชียงใหม่', 280), ('ร้านกาแฟ', 260), ('สายการบิน', 245), ('การท่องเที่ยวแห่งประเทศไทย', 214), ('โตเกียว', 193), ('พัทยา', 185), ('เที่ยววัด', 180), ('เที่ยวน้ำตก', 179), ('จังหวัดภูเก็ต', 174), ('ที่พัก', 166), ('โฮมสเตย์', 162), ('สถานที่ถ่ายรูป', 153), ('อาหาร', 149), ('เที่ยวจีน', 148), ('ภาคเหนือ', 142), ('รถไฟ', 130), ('จังหวัดกาญจนบุรี', 129), ('ดำน้ำ', 129), ('โอซาก้า', 127), ('มอเตอร์ไซค์', 126), ('ประเทศเวียดนาม', 122), ('จังหวัดน่าน', 121), ('โรงแรมรีสอร์ทต่างประเทศ', 119), ('ทริปถ่ายรูป', 118), ('คันไซ', 118), ('เที่ยวเกาหลี', 118), ('เที่ยวเวียดนาม', 116), ('กิจกรรมท่องเที่ยว', 112), ('อุทยานแห่งชาติ', 112), ('สนามบิน', 108), ('จังหวัดชลบุรี', 100), ('อาหารญี่ปุ่น', 99), ('ประเทศจีน', 99), ('ฮอกไกโด', 96), ('หัวหิน', 96), ('เที่ยวอินเดีย', 91), ('เที่ยวไต้หวัน', 90), ('จังหวัดพังงา', 88), ('เขาใหญ่', 86), ('ไต้หวัน', 85), ('วีซ่า', 84), ('ประเทศสิงคโปร์', 83)]\n"
          ],
          "name": "stdout"
        }
      ]
    },
    {
      "cell_type": "code",
      "metadata": {
        "id": "VkC10_t5seJn"
      },
      "source": [
        "idx_to_tag = {}\n",
        "tag_to_idx = {}\n",
        "i = 0\n",
        "for tag in Top_tags:\n",
        "  if tag[0] not in tag_to_idx:\n",
        "    tag_to_idx[tag[0]] = i\n",
        "    i += 1\n",
        "idx_to_tag = {v: k for k, v in tag_to_idx.items()}"
      ],
      "execution_count": null,
      "outputs": []
    },
    {
      "cell_type": "code",
      "metadata": {
        "colab": {
          "base_uri": "https://localhost:8080/"
        },
        "id": "NB5TKTBPtL6O",
        "outputId": "e302bb5d-9a0f-423d-df56-36d32ac1c36f"
      },
      "source": [
        "print(idx_to_tag)"
      ],
      "execution_count": null,
      "outputs": [
        {
          "output_type": "stream",
          "text": [
            "{0: 'บันทึกนักเดินทาง', 1: 'เที่ยวไทย', 2: 'เที่ยวต่างประเทศ', 3: 'สถานที่ท่องเที่ยวต่างประเทศ', 4: 'สถานที่ท่องเที่ยวในประเทศ', 5: 'Backpack', 6: 'โรงแรมรีสอร์ท', 7: 'ภาพถ่ายทิวทัศน์', 8: 'เที่ยวทะเล', 9: 'เที่ยวญี่ปุ่น', 10: 'เที่ยวภูเขา', 11: 'ท่องเที่ยว', 12: 'สถานที่ท่องเที่ยว', 13: 'นักท่องเที่ยว', 14: 'One_Day_Trip', 15: 'ร้านอาหาร', 16: 'โรงแรมรีสอร์ทไทย', 17: 'ภาพถ่ายจากกล้องโทรศัพท์', 18: 'คาเฟ่_(Cafe)', 19: 'ประเทศญี่ปุ่น', 20: 'เที่ยวเชิงอนุรักษ์', 21: 'ภาพถ่าย', 22: 'สถานที่ท่องเที่ยวกรุงเทพฯ', 23: 'สถานที่ท่องเที่ยวสำหรับครอบครัว', 24: 'Slow_Life', 25: 'เที่ยวยุโรป', 26: 'เดินป่า', 27: 'แผนการเดินทางและท่องเที่ยว', 28: 'จังหวัดเชียงใหม่', 29: 'ร้านกาแฟ', 30: 'สายการบิน', 31: 'การท่องเที่ยวแห่งประเทศไทย', 32: 'โตเกียว', 33: 'พัทยา', 34: 'เที่ยววัด', 35: 'เที่ยวน้ำตก', 36: 'จังหวัดภูเก็ต', 37: 'ที่พัก', 38: 'โฮมสเตย์', 39: 'สถานที่ถ่ายรูป', 40: 'อาหาร', 41: 'เที่ยวจีน', 42: 'ภาคเหนือ', 43: 'รถไฟ', 44: 'จังหวัดกาญจนบุรี', 45: 'ดำน้ำ', 46: 'โอซาก้า', 47: 'มอเตอร์ไซค์', 48: 'ประเทศเวียดนาม', 49: 'จังหวัดน่าน', 50: 'โรงแรมรีสอร์ทต่างประเทศ', 51: 'ทริปถ่ายรูป', 52: 'คันไซ', 53: 'เที่ยวเกาหลี', 54: 'เที่ยวเวียดนาม', 55: 'กิจกรรมท่องเที่ยว', 56: 'อุทยานแห่งชาติ', 57: 'สนามบิน', 58: 'จังหวัดชลบุรี', 59: 'อาหารญี่ปุ่น', 60: 'ประเทศจีน', 61: 'ฮอกไกโด', 62: 'หัวหิน', 63: 'เที่ยวอินเดีย', 64: 'เที่ยวไต้หวัน', 65: 'จังหวัดพังงา', 66: 'เขาใหญ่', 67: 'ไต้หวัน', 68: 'วีซ่า', 69: 'ประเทศสิงคโปร์'}\n"
          ],
          "name": "stdout"
        }
      ]
    },
    {
      "cell_type": "code",
      "metadata": {
        "id": "Xo0nmelAkAC4"
      },
      "source": [
        "tags_temp = []\n",
        "\n",
        "for index, row in df_content.iterrows():\n",
        "  \n",
        "  temp = []\n",
        "  for tag in row['tags']:\n",
        "    # print(tag)\n",
        "    if tag in tag_to_idx:\n",
        "      temp.append(tag_to_idx[tag])\n",
        "  tags_temp.append(temp)\n",
        "  \n",
        "df_content['idx_tags'] = tags_temp"
      ],
      "execution_count": null,
      "outputs": []
    },
    {
      "cell_type": "code",
      "metadata": {
        "colab": {
          "base_uri": "https://localhost:8080/",
          "height": 194
        },
        "id": "UXDB8hd9CBRH",
        "outputId": "02199e70-5da9-42e6-e91d-d9f1ce497dd9"
      },
      "source": [
        "df_content.head()"
      ],
      "execution_count": null,
      "outputs": [
        {
          "output_type": "execute_result",
          "data": {
            "text/html": [
              "<div>\n",
              "<style scoped>\n",
              "    .dataframe tbody tr th:only-of-type {\n",
              "        vertical-align: middle;\n",
              "    }\n",
              "\n",
              "    .dataframe tbody tr th {\n",
              "        vertical-align: top;\n",
              "    }\n",
              "\n",
              "    .dataframe thead th {\n",
              "        text-align: right;\n",
              "    }\n",
              "</style>\n",
              "<table border=\"1\" class=\"dataframe\">\n",
              "  <thead>\n",
              "    <tr style=\"text-align: right;\">\n",
              "      <th></th>\n",
              "      <th>topic_id</th>\n",
              "      <th>title</th>\n",
              "      <th>content</th>\n",
              "      <th>tags</th>\n",
              "      <th>idx_tags</th>\n",
              "    </tr>\n",
              "  </thead>\n",
              "  <tbody>\n",
              "    <tr>\n",
              "      <th>0</th>\n",
              "      <td>40643404</td>\n",
              "      <td>ทริปเกาะเสม็ด 3 วัน 2 คืน วันที่สองที่ทรายแก้ว...</td>\n",
              "      <td>\\r\\n\\t\\t\\t\\t\\t\\t\\t\\t\\t\\t\\t\\t\\t\\t\\t\\tคืนแรกที่เ...</td>\n",
              "      <td>[เกาะเสม็ด, เที่ยวทะเล, จังหวัดระยอง, เที่ยวไท...</td>\n",
              "      <td>[8, 1, 16]</td>\n",
              "    </tr>\n",
              "    <tr>\n",
              "      <th>1</th>\n",
              "      <td>40643393</td>\n",
              "      <td>…  ธูษิฏา เวลเนส รีสอร์ต ชุมพร  Tusita Wellnes...</td>\n",
              "      <td>\\r\\n\\t\\t\\t\\t\\t\\t\\t\\t\\t\\t\\t\\t\\t\\t\\t\\t.     ธูษิ...</td>\n",
              "      <td>[บันทึกนักเดินทาง, โรงแรมรีสอร์ท, จังหวัดชุมพร...</td>\n",
              "      <td>[0, 6, 8, 16]</td>\n",
              "    </tr>\n",
              "    <tr>\n",
              "      <th>2</th>\n",
              "      <td>40643087</td>\n",
              "      <td>พาชม สนามกอล์ฟ ศูนย์สร้างทางลำปาง กรมทางหลวง (...</td>\n",
              "      <td>\\n\\nใบสนร่วงให้ฟีลแผ่นดินสีทอง สวยไปอีกแบบครับ...</td>\n",
              "      <td>[กอล์ฟ, กีฬาผู้สูงอายุ, เที่ยวไทย, จังหวัดลำปา...</td>\n",
              "      <td>[1]</td>\n",
              "    </tr>\n",
              "    <tr>\n",
              "      <th>3</th>\n",
              "      <td>40642333</td>\n",
              "      <td>Copenhagen : Summer days - ฤดูร้อนในโคเปนเฮเกน...</td>\n",
              "      <td>\\r\\n\\t\\t\\t\\t\\t\\t\\t\\t\\t\\t\\t\\t\\t\\t\\t\\tทริปนี้เป็...</td>\n",
              "      <td>[โคเปนเฮเกน, เที่ยวยุโรป, บันทึกนักเดินทาง, ปร...</td>\n",
              "      <td>[25, 0, 3]</td>\n",
              "    </tr>\n",
              "    <tr>\n",
              "      <th>4</th>\n",
              "      <td>40642260</td>\n",
              "      <td>📌 แจกพิกัด 6 ทุ่งดอกไม้หลากสีทั่วญี่ปุ่น ที่ไม...</td>\n",
              "      <td>\\nถ้าพูดถึงดอกไม้ของญี่ปุ่นหลายๆคนคงจะนึกถึงดอ...</td>\n",
              "      <td>[เที่ยวญี่ปุ่น, ฮอกไกโด, โตเกียว, โอซาก้า, สถา...</td>\n",
              "      <td>[9, 61, 32, 46, 3]</td>\n",
              "    </tr>\n",
              "  </tbody>\n",
              "</table>\n",
              "</div>"
            ],
            "text/plain": [
              "   topic_id  ...            idx_tags\n",
              "0  40643404  ...          [8, 1, 16]\n",
              "1  40643393  ...       [0, 6, 8, 16]\n",
              "2  40643087  ...                 [1]\n",
              "3  40642333  ...          [25, 0, 3]\n",
              "4  40642260  ...  [9, 61, 32, 46, 3]\n",
              "\n",
              "[5 rows x 5 columns]"
            ]
          },
          "metadata": {
            "tags": []
          },
          "execution_count": 13
        }
      ]
    },
    {
      "cell_type": "code",
      "metadata": {
        "id": "hdREsgQvuhM6"
      },
      "source": [
        "from sklearn.preprocessing import MultiLabelBinarizer\n",
        "\n",
        "multilabel_binarizer = MultiLabelBinarizer()\n",
        "multilabel_binarizer.fit(df_content['idx_tags'])\n",
        "\n",
        "y = multilabel_binarizer.transform(df_content['idx_tags'])"
      ],
      "execution_count": null,
      "outputs": []
    },
    {
      "cell_type": "code",
      "metadata": {
        "id": "07tqS6FE01PK"
      },
      "source": [
        "# Clean text\n",
        "cut_string = r\"[\\xa0\\|\\(\\)\\[\\]\\{\\}\\n\\t\\r-]*\"\n",
        "df_content['clean_content'] = df_content['title'] + df_content['content']\n",
        "df_content['clean_content'] = df_content['clean_content'].apply(lambda x: re.sub(cut_string, \"\", x))"
      ],
      "execution_count": null,
      "outputs": []
    },
    {
      "cell_type": "code",
      "metadata": {
        "colab": {
          "base_uri": "https://localhost:8080/",
          "height": 615
        },
        "id": "YZ98gBDbv_Iq",
        "outputId": "b86cf70a-ef98-4788-c73b-e9acfbd157ba"
      },
      "source": [
        "Tags_ = [i[0] for i in Top_tags]\n",
        "Count_ = [i[1] for i in Top_tags]\n",
        "\n",
        "font = {'size': 22}\n",
        "plt.rc('font', **font)\n",
        "plt.figure(figsize=(20, 7))\n",
        "plt.bar(Tags_, Count_)\n",
        "plt.xticks(rotation=90)\n",
        "plt.show()"
      ],
      "execution_count": null,
      "outputs": [
        {
          "output_type": "display_data",
          "data": {
            "image/png": "[encoded data removed]",
            "text/plain": [
              "<Figure size 1440x504 with 1 Axes>"
            ]
          },
          "metadata": {
            "tags": [],
            "needs_background": "light"
          }
        }
      ]
    },
    {
      "cell_type": "markdown",
      "metadata": {
        "id": "5clOStUyDYxC"
      },
      "source": [
        "## Tokenizer"
      ]
    },
    {
      "cell_type": "code",
      "metadata": {
        "id": "w5kEOhleDfKP"
      },
      "source": [
        "!pip install pythainlp\n",
        "from pythainlp.tokenize import word_tokenize\n",
        "from pythainlp.tokenize import syllable_tokenize"
      ],
      "execution_count": null,
      "outputs": []
    },
    {
      "cell_type": "code",
      "metadata": {
        "id": "Gnr7a9d4FDvR"
      },
      "source": [
        "X = df_content['clean_content'].tolist()"
      ],
      "execution_count": null,
      "outputs": []
    },
    {
      "cell_type": "code",
      "metadata": {
        "id": "OP_iD4GdDa8y"
      },
      "source": [
        "# Tokenize\n",
        "word_to_idx ={}\n",
        "idx_to_word ={}\n",
        "\n",
        "content = df_content['clean_content'].tolist()\n",
        "\n",
        "new_content = []\n",
        "for sentence in content:\n",
        "  text = word_tokenize(sentence, engine=\"newmm\")\n",
        "  for word in text:\n",
        "    if word not in word_to_idx:\n",
        "      word_to_idx[word] = len(word_to_idx) + 1\n",
        "      idx_to_word[word_to_idx[word]] = word\n",
        "  new_content.append(text)\n",
        "word_to_idx['UNK'] = len(word_to_idx)\n",
        "content_newmm = new_content\n",
        "\n",
        "del new_content"
      ],
      "execution_count": null,
      "outputs": []
    },
    {
      "cell_type": "code",
      "metadata": {
        "id": "ekhe2_rD1ev8"
      },
      "source": [
        "vocab_size = len(word_to_idx)"
      ],
      "execution_count": null,
      "outputs": []
    },
    {
      "cell_type": "code",
      "metadata": {
        "id": "z4aAWvx-6XXo"
      },
      "source": [
        "# content to sequences\n",
        "content_seq = []\n",
        "for c in content_newmm:\n",
        "  temp = []\n",
        "  for word in c:\n",
        "    if word in word_to_idx:\n",
        "      temp.append(word_to_idx[word])\n",
        "    else:\n",
        "      temp.append(word_to_idx['UNK'])\n",
        "  content_seq.append(temp)"
      ],
      "execution_count": null,
      "outputs": []
    },
    {
      "cell_type": "code",
      "metadata": {
        "id": "Fre5Iuke5aA0"
      },
      "source": [
        "content_lengths = []\n",
        "\n",
        "for i in content_newmm:\n",
        "    content_lengths.append(len(i))"
      ],
      "execution_count": null,
      "outputs": []
    },
    {
      "cell_type": "code",
      "metadata": {
        "id": "UdaQkU6d5liO"
      },
      "source": [
        "max_length = int(pd.Series(content_lengths).quantile(0.8))"
      ],
      "execution_count": null,
      "outputs": []
    },
    {
      "cell_type": "code",
      "metadata": {
        "id": "zNmPuW0t53yk"
      },
      "source": [
        "from keras.preprocessing.sequence import pad_sequences\n",
        "padded_content = pad_sequences(content_seq, maxlen=max_length, padding='post', truncating='post')"
      ],
      "execution_count": null,
      "outputs": []
    },
    {
      "cell_type": "code",
      "metadata": {
        "colab": {
          "base_uri": "https://localhost:8080/"
        },
        "id": "AK4RXOwFAd30",
        "outputId": "f919fade-dd6a-44d7-b9b6-5bdd397a9ec9"
      },
      "source": [
        "padded_content.shape, y.shape"
      ],
      "execution_count": null,
      "outputs": [
        {
          "output_type": "execute_result",
          "data": {
            "text/plain": [
              "((10000, 1288), (10000, 70))"
            ]
          },
          "metadata": {
            "tags": []
          },
          "execution_count": 42
        }
      ]
    },
    {
      "cell_type": "markdown",
      "metadata": {
        "id": "QKXVhEQYAu1o"
      },
      "source": [
        "# Model"
      ]
    },
    {
      "cell_type": "code",
      "metadata": {
        "id": "gHh1zxzYAxrl"
      },
      "source": [
        "from sklearn.model_selection import train_test_split\n",
        "# Split data\n",
        "x_train, x_val, y_train, y_val = train_test_split(padded_content, y, \n",
        "                                                    test_size=0.4, \n",
        "                                                    random_state=9)\n",
        "x_test, x_val, y_test, y_val = train_test_split(x_val, y_val, \n",
        "                                                    test_size=0.5, \n",
        "                                                    random_state=9)"
      ],
      "execution_count": null,
      "outputs": []
    },
    {
      "cell_type": "markdown",
      "metadata": {
        "id": "pUHk43kfrVC9"
      },
      "source": [
        "## LSTM+CNN"
      ]
    },
    {
      "cell_type": "code",
      "metadata": {
        "id": "e9wO_rVJfSdk"
      },
      "source": [
        "def get_lstm_cnn_model(max_length, vocab_size, n_tags):\n",
        "    embedding_dim = 300\n",
        "    input = Input(shape=(max_length, ))\n",
        "    x = Embedding(vocab_size, embedding_dim, input_length=max_length, trainable=True)(input)\n",
        "    x = SpatialDropout1D(0.4)(x)\n",
        "    x = Bidirectional(LSTM(128, return_sequences=True))(x)\n",
        "    x = Conv1D(300, kernel_size = 5, padding = \"valid\", kernel_initializer = \"he_uniform\")(x)\n",
        "    avg_pool = GlobalAveragePooling1D()(x)\n",
        "    max_pool = GlobalMaxPooling1D()(x)\n",
        "    concat = concatenate([avg_pool, max_pool])\n",
        "    dropout = Dropout(0.4)(concat)\n",
        "    output = Dense(n_tags, activation=\"sigmoid\")(dropout)\n",
        "\n",
        "    model = Model(inputs=input, outputs=output)\n",
        "    model.compile(loss='binary_crossentropy',\n",
        "                  optimizer=Adam(lr=0.001),\n",
        "                  metrics=['accuracy'])\n",
        "    return model\n"
      ],
      "execution_count": null,
      "outputs": []
    },
    {
      "cell_type": "code",
      "metadata": {
        "colab": {
          "base_uri": "https://localhost:8080/"
        },
        "id": "sIB5LuuFB2Eb",
        "outputId": "57838315-7bf0-4db1-e677-e84f2b2b8a1a"
      },
      "source": [
        "model = get_lstm_cnn_model(max_length, vocab_size, n_tags)\n",
        "model.summary()"
      ],
      "execution_count": null,
      "outputs": [
        {
          "output_type": "stream",
          "text": [
            "Model: \"model\"\n",
            "__________________________________________________________________________________________________\n",
            "Layer (type)                    Output Shape         Param #     Connected to                     \n",
            "==================================================================================================\n",
            "input_1 (InputLayer)            [(None, 1288)]       0                                            \n",
            "__________________________________________________________________________________________________\n",
            "embedding (Embedding)           (None, 1288, 300)    35844900    input_1[0][0]                    \n",
            "__________________________________________________________________________________________________\n",
            "spatial_dropout1d (SpatialDropo (None, 1288, 300)    0           embedding[0][0]                  \n",
            "__________________________________________________________________________________________________\n",
            "bidirectional (Bidirectional)   (None, 1288, 256)    439296      spatial_dropout1d[0][0]          \n",
            "__________________________________________________________________________________________________\n",
            "conv1d (Conv1D)                 (None, 1284, 300)    384300      bidirectional[0][0]              \n",
            "__________________________________________________________________________________________________\n",
            "global_average_pooling1d (Globa (None, 300)          0           conv1d[0][0]                     \n",
            "__________________________________________________________________________________________________\n",
            "global_max_pooling1d (GlobalMax (None, 300)          0           conv1d[0][0]                     \n",
            "__________________________________________________________________________________________________\n",
            "concatenate (Concatenate)       (None, 600)          0           global_average_pooling1d[0][0]   \n",
            "                                                                 global_max_pooling1d[0][0]       \n",
            "__________________________________________________________________________________________________\n",
            "dropout (Dropout)               (None, 600)          0           concatenate[0][0]                \n",
            "__________________________________________________________________________________________________\n",
            "dense (Dense)                   (None, 70)           42070       dropout[0][0]                    \n",
            "==================================================================================================\n",
            "Total params: 36,710,566\n",
            "Trainable params: 36,710,566\n",
            "Non-trainable params: 0\n",
            "__________________________________________________________________________________________________\n"
          ],
          "name": "stdout"
        }
      ]
    },
    {
      "cell_type": "code",
      "metadata": {
        "colab": {
          "base_uri": "https://localhost:8080/",
          "height": 856
        },
        "id": "947jSEGeTdXN",
        "outputId": "c29a23ba-dd3c-42bd-b73f-4630d9a42c85"
      },
      "source": [
        "plot_model(model)"
      ],
      "execution_count": null,
      "outputs": [
        {
          "output_type": "execute_result",
          "data": {
            "image/png": "[encoded data removed]",
            "text/plain": [
              "<IPython.core.display.Image object>"
            ]
          },
          "metadata": {
            "tags": []
          },
          "execution_count": 44
        }
      ]
    },
    {
      "cell_type": "code",
      "metadata": {
        "id": "0aiD75jZB4M5"
      },
      "source": [
        "callbacks = [\n",
        "             ModelCheckpoint(filepath='model-cnn-lstm.h5', save_best_only=True)\n",
        "            ]"
      ],
      "execution_count": null,
      "outputs": []
    },
    {
      "cell_type": "code",
      "metadata": {
        "colab": {
          "base_uri": "https://localhost:8080/"
        },
        "id": "UFx1PimtB7NB",
        "outputId": "fcc89630-377c-4846-ce6c-bd25b6807980"
      },
      "source": [
        "history = model.fit(x_train, y_train,\n",
        "                    epochs=15,\n",
        "                    batch_size=128,\n",
        "                    validation_data=(x_val, y_val),\n",
        "                    callbacks=callbacks)"
      ],
      "execution_count": null,
      "outputs": [
        {
          "output_type": "stream",
          "text": [
            "Epoch 1/15\n",
            "47/47 [==============================] - 42s 832ms/step - loss: 0.3512 - accuracy: 0.2521 - val_loss: 0.1562 - val_accuracy: 0.5155\n",
            "Epoch 2/15\n",
            "47/47 [==============================] - 38s 811ms/step - loss: 0.1617 - accuracy: 0.4657 - val_loss: 0.1535 - val_accuracy: 0.5170\n",
            "Epoch 3/15\n",
            "47/47 [==============================] - 38s 818ms/step - loss: 0.1559 - accuracy: 0.4792 - val_loss: 0.1457 - val_accuracy: 0.4825\n",
            "Epoch 4/15\n",
            "47/47 [==============================] - 38s 811ms/step - loss: 0.1452 - accuracy: 0.4131 - val_loss: 0.1361 - val_accuracy: 0.3900\n",
            "Epoch 5/15\n",
            "47/47 [==============================] - 38s 812ms/step - loss: 0.1349 - accuracy: 0.3947 - val_loss: 0.1318 - val_accuracy: 0.4435\n",
            "Epoch 6/15\n",
            "47/47 [==============================] - 38s 813ms/step - loss: 0.1280 - accuracy: 0.4323 - val_loss: 0.1260 - val_accuracy: 0.4345\n",
            "Epoch 7/15\n",
            "47/47 [==============================] - 38s 815ms/step - loss: 0.1198 - accuracy: 0.4422 - val_loss: 0.1222 - val_accuracy: 0.4275\n",
            "Epoch 8/15\n",
            "47/47 [==============================] - 38s 812ms/step - loss: 0.1112 - accuracy: 0.4530 - val_loss: 0.1213 - val_accuracy: 0.4550\n",
            "Epoch 9/15\n",
            "47/47 [==============================] - 38s 810ms/step - loss: 0.1068 - accuracy: 0.4818 - val_loss: 0.1206 - val_accuracy: 0.4195\n",
            "Epoch 10/15\n",
            "47/47 [==============================] - 38s 814ms/step - loss: 0.1009 - accuracy: 0.4823 - val_loss: 0.1176 - val_accuracy: 0.4485\n",
            "Epoch 11/15\n",
            "47/47 [==============================] - 38s 811ms/step - loss: 0.0944 - accuracy: 0.5018 - val_loss: 0.1175 - val_accuracy: 0.3855\n",
            "Epoch 12/15\n",
            "47/47 [==============================] - 38s 812ms/step - loss: 0.0897 - accuracy: 0.4967 - val_loss: 0.1174 - val_accuracy: 0.4585\n",
            "Epoch 13/15\n",
            "47/47 [==============================] - 38s 811ms/step - loss: 0.0840 - accuracy: 0.5103 - val_loss: 0.1181 - val_accuracy: 0.4090\n",
            "Epoch 14/15\n",
            "47/47 [==============================] - 38s 806ms/step - loss: 0.0800 - accuracy: 0.5124 - val_loss: 0.1189 - val_accuracy: 0.4075\n",
            "Epoch 15/15\n",
            "47/47 [==============================] - 38s 808ms/step - loss: 0.0750 - accuracy: 0.5317 - val_loss: 0.1204 - val_accuracy: 0.4175\n"
          ],
          "name": "stdout"
        }
      ]
    },
    {
      "cell_type": "markdown",
      "metadata": {
        "id": "QpuTG2U9JV1a"
      },
      "source": [
        "### Predict"
      ]
    },
    {
      "cell_type": "code",
      "metadata": {
        "id": "-mW_tRdjJZjU"
      },
      "source": [
        "preds = model.predict(x_test)"
      ],
      "execution_count": null,
      "outputs": []
    },
    {
      "cell_type": "code",
      "metadata": {
        "colab": {
          "base_uri": "https://localhost:8080/"
        },
        "id": "fWsSA5FwJdoj",
        "outputId": "98721af2-e9c5-4f19-bfa3-801e1da7b0ad"
      },
      "source": [
        "print(y_test[0])\n",
        "print(preds[0])"
      ],
      "execution_count": null,
      "outputs": [
        {
          "output_type": "stream",
          "text": [
            "[1 0 0 0 0 1 0 0 0 1 0 0 0 0 1 0 0 0 0 1 0 0 0 0 0 0 0 0 0 0 0 0 0 0 0 0 0\n",
            " 0 0 0 0 0 0 0 0 0 0 0 0 0 0 0 0 0 0 0 0 0 0 0 0 0 0 0 0 0 0 0 0 0]\n",
            "[0.15642843 0.00513548 0.05702417 0.07412627 0.02610114 0.04777661\n",
            " 0.00282676 0.02983481 0.0007136  0.119866   0.00505354 0.09982742\n",
            " 0.09308866 0.03402109 0.08747964 0.01887841 0.00128716 0.17079918\n",
            " 0.01579406 0.07502391 0.00681542 0.02626359 0.03522089 0.02370107\n",
            " 0.02723123 0.00201753 0.00180419 0.04757922 0.00159797 0.01099917\n",
            " 0.00617298 0.00428687 0.02034601 0.00033542 0.01844261 0.00544675\n",
            " 0.00378566 0.01181512 0.00182562 0.05685171 0.00943242 0.00127521\n",
            " 0.00085154 0.01846584 0.00090879 0.00031539 0.00210553 0.00186486\n",
            " 0.00441759 0.00030834 0.00427633 0.04232186 0.00174661 0.00366715\n",
            " 0.0021578  0.02093055 0.00018994 0.00918353 0.00533599 0.02006719\n",
            " 0.00035377 0.0017586  0.00111737 0.0070921  0.00503077 0.00059585\n",
            " 0.00199674 0.00433086 0.00245848 0.00785224]\n"
          ],
          "name": "stdout"
        }
      ]
    },
    {
      "cell_type": "code",
      "metadata": {
        "id": "G6u6HfZOJwuq"
      },
      "source": [
        "from sklearn.metrics import f1_score\n",
        "\n",
        "threshold = [i*0.01 for i in range(100)]\n",
        "f1_score_list = []\n",
        "for t in threshold:\n",
        "  preds_int = (preds >= t).astype(int)\n",
        "  f1_score_list.append(f1_score(y_test, preds_int, average=\"weighted\"))"
      ],
      "execution_count": null,
      "outputs": []
    },
    {
      "cell_type": "code",
      "metadata": {
        "colab": {
          "base_uri": "https://localhost:8080/"
        },
        "id": "Ar9jBaPZJ4ti",
        "outputId": "3802f0d6-39b1-4d30-b69f-12222a0c507f"
      },
      "source": [
        "len(threshold)\n",
        "len(f1_score_list)"
      ],
      "execution_count": null,
      "outputs": [
        {
          "output_type": "execute_result",
          "data": {
            "text/plain": [
              "100"
            ]
          },
          "metadata": {
            "tags": []
          },
          "execution_count": 62
        }
      ]
    },
    {
      "cell_type": "code",
      "metadata": {
        "colab": {
          "base_uri": "https://localhost:8080/",
          "height": 263
        },
        "id": "_9mXdnuOjy9s",
        "outputId": "bef727a3-eb9e-45ad-9f5f-fc604b7a2670"
      },
      "source": [
        "import matplotlib.pyplot as plt\n",
        "plt.plot(threshold, f1_score_list)\n",
        "plt.show()"
      ],
      "execution_count": null,
      "outputs": [
        {
          "output_type": "display_data",
          "data": {
            "image/png": "[encoded data removed]",
            "text/plain": [
              "<Figure size 432x288 with 1 Axes>"
            ]
          },
          "metadata": {
            "tags": [],
            "needs_background": "light"
          }
        }
      ]
    },
    {
      "cell_type": "code",
      "metadata": {
        "colab": {
          "base_uri": "https://localhost:8080/"
        },
        "id": "SNQ-6rrUj9Bh",
        "outputId": "29fa44a7-f677-49a1-b100-6fa739dee602"
      },
      "source": [
        "# max(f1_score_list)\n",
        "opt_threshold = threshold[f1_score_list.index(max(f1_score_list))]\n",
        "print(opt_threshold)\n",
        "print(max(f1_score_list))"
      ],
      "execution_count": null,
      "outputs": [
        {
          "output_type": "stream",
          "text": [
            "0.12\n",
            "0.49898503876081046\n"
          ],
          "name": "stdout"
        }
      ]
    },
    {
      "cell_type": "markdown",
      "metadata": {
        "id": "wHGOLp-sR94n"
      },
      "source": [
        "### Example"
      ]
    },
    {
      "cell_type": "code",
      "metadata": {
        "id": "2uURsvHpUXtd"
      },
      "source": [
        "tags_pred = model.predict(padded_content)"
      ],
      "execution_count": null,
      "outputs": []
    },
    {
      "cell_type": "code",
      "metadata": {
        "colab": {
          "base_uri": "https://localhost:8080/"
        },
        "id": "IdnDxxElSARa",
        "outputId": "bda79b2d-a5a2-4bb4-fd0c-af352674c54c"
      },
      "source": [
        "def example_pred(i):\n",
        "  print(df_content['topic_id'][i])\n",
        "  print(df_content['title'][i])\n",
        "  print('=====')\n",
        "  print(df_content['content'][i][:500])\n",
        "  print('=====')\n",
        "  print('Actual Tag')\n",
        "  print(df_content['tags'][i])\n",
        "  print('=====')\n",
        "  print('Predicted Tags')\n",
        "\n",
        "  tags_pred_idx = tags_pred[i] >= opt_threshold\n",
        "  tags_pred_i = []\n",
        "  for j, k in enumerate(tags_pred_idx):\n",
        "    if k:\n",
        "      tags_pred_i.append(idx_to_tag[j])\n",
        "  print(tags_pred_i)\n",
        "  print('=====')\n",
        "  print('Corrected')\n",
        "  corrected_tags = set(tags_pred_i).intersection(set(df_content['tags'][i]))\n",
        "  print(corrected_tags)\n",
        "  print('=======================')\n",
        "  print('=======================\\n')\n",
        "\n",
        "example_pred(501)\n",
        "example_pred(627)\n",
        "example_pred(8627)\n",
        "example_pred(7532)"
      ],
      "execution_count": null,
      "outputs": [
        {
          "output_type": "stream",
          "text": [
            "40482209\n",
            "[Travelling As A Couple] ทริปพักผ่อนชิลๆ ที่กระบี่ ที่พักดีงาม Pimalai Resort &Spa\n",
            "=====\n",
            "\n",
            "\n",
            "หลังจากโควิดระบาดเราก็ไม่ได้นั่งเครื่องบินออกนอกประเทศเลย เลยต้องหาที่เที่ยวในประเทศ ไปเที่ยวพักผ่อนบ้าง สำหรับบ้านเราถ้าให้เลือกระหว่างทะเลกับภูเขา ทะเลก็ยังคงเป็นที่หนึ่งในใจเสมอ\n",
            "\n",
            "ทริปนี้เลยเลือกมาทะเลทางใต้ดูบ้าง ก่อนหน้าไปหัวหิน พัทยา มาจนเบื่อแล้ว แต่ลงใต้มาหลายที แต่ยังไม่เคยได้แวะเวียนมาเที่ยวกระบี่ซักที และนี่คือครั้งแรกที่เราจะไปเที่ยวกระบี่ ทริปนี้กะไว้แล้วว่าไปเที่ยวแบบพักผ่อนจริงๆ นอนอยู่โรงแรม เล่นน้ำ ทำกิจกรรมภายในโรงแรม ไม่ออกไปไหนเยอะ เพื่อลดความเสี่ยงหลายๆ อย่าง เลยต้องเลือกโร\n",
            "=====\n",
            "Actual Tag\n",
            "['เที่ยวทะเล', 'จังหวัดกระบี่', 'บันทึกนักเดินทาง', 'สถานที่ท่องเที่ยวในประเทศ', 'สถานที่ท่องเที่ยวสำหรับครอบครัว']\n",
            "=====\n",
            "Predicted Tags\n",
            "['บันทึกนักเดินทาง', 'เที่ยวไทย', 'สถานที่ท่องเที่ยวในประเทศ', 'โรงแรมรีสอร์ท', 'เที่ยวทะเล', 'ท่องเที่ยว', 'โรงแรมรีสอร์ทไทย', 'สถานที่ท่องเที่ยวสำหรับครอบครัว', 'จังหวัดภูเก็ต', 'ที่พัก']\n",
            "=====\n",
            "Corrected\n",
            "{'บันทึกนักเดินทาง', 'เที่ยวทะเล', 'สถานที่ท่องเที่ยวในประเทศ', 'สถานที่ท่องเที่ยวสำหรับครอบครัว'}\n",
            "=======================\n",
            "=======================\n",
            "\n",
            "40437348\n",
            "อุบลราชธานี: พระอาทิตย์ขึ้นก่อนใคร ที่สุดขอบแดนอีสาน\n",
            "=====\n",
            "\n",
            "สวัสดีครับ\n",
            "\n",
            "กลับมาเจอกันอีกแล้วนะครับ ท่ามกลางช่วงเวลาที่โควิด-19 ถล่มแทบทั้งโลกแบบนี้ เพื่อความปลอดภัยของตัวเราและเพื่อช่วยประเทศเรา ปีนี้เราก็เที่ยวในประเทศกันไปรัวๆครับ\n",
            "ทริปนี้เป็นทริปที่เราไปมาช่วงเดือนพฤศจิกายนที่ผ่านมา ก่อนที่โควิด-19จะมาระเบิดในเมืองไทย สำหรับคราวนี้เป็นทริปสั้นๆครับ เราไปกันที่จังหวัดอันโด่งดังแห่งแดนอีสาน นั่นก็คือ อุบลราชธานี นั่นเองครับ \n",
            "\n",
            "มาพูดถึงจังหวัดนี้กันซักหน่อยนะครับ อุบลราชธานีเป็นจังหวัดที่ตั้งอยู่ทางตะวันออกที่สุดของภาคตะวันออกเฉียงเหนือของไทย เป็นจังหวัดที\n",
            "=====\n",
            "Actual Tag\n",
            "['การท่องเที่ยวแห่งประเทศไทย', 'ภาพถ่ายทิวทัศน์', 'บันทึกนักเดินทาง', 'สถานที่ท่องเที่ยวในประเทศ', 'เที่ยวไทย']\n",
            "=====\n",
            "Predicted Tags\n",
            "['บันทึกนักเดินทาง', 'เที่ยวไทย', 'สถานที่ท่องเที่ยวในประเทศ', 'Backpack', 'ภาพถ่ายทิวทัศน์', 'เที่ยวภูเขา']\n",
            "=====\n",
            "Corrected\n",
            "{'ภาพถ่ายทิวทัศน์', 'สถานที่ท่องเที่ยวในประเทศ', 'เที่ยวไทย', 'บันทึกนักเดินทาง'}\n",
            "=======================\n",
            "=======================\n",
            "\n",
            "38934824\n",
            "(Mom's Day In Macau) มาเก๊า-ฮ่องกง ง่ายๆ พ่อแม่ก็ไปได้\n",
            "=====\n",
            "\n",
            "\n",
            "\n",
            "\n",
            "Mom's Day In Macau\n",
            "สวัสดีทุกคนค่ะ หลังจากห่างหายการรีวิวเรื่องเที่ยวมานาน\n",
            "ถึงแม้ว่าจะเที่ยวไม่ขาดสาย เพราะความขี้เกียจ เลยไม่ได้มาลงเสียนาน วันนี้เลยได้ฤกษ์เอาคอมมาปัดฝุ่น ลงรีวิวให้ทุกคนได้อ่านกัน\n",
            "แต่อย่าเรียกมันว่ารีวิวเลยค่ะ ถือว่าเป็นบันทึกการท่องเที่ยวของเราที่แบ่งปันให้ทุกคนอ่านจะดีกว่า\n",
            "คราวนี้ เราได้มีโอกาสไปเที่ยวประเทศใกล้ๆ อย่างมาเก๊า กับฮ่องกง เมื่อช่วงปลายเดือนพฤษภาคมที่ผ่านมา\n",
            "แต่ว่าเราไม่ได้ไปคนเดียว ยกโขยงกันไปทั้งบ้าน ซึ่งประกอบด้วยพ่อ แม่ และน้องสาวของเราอีกคน\n",
            "ตอนแรก แพลนนี้ไ\n",
            "=====\n",
            "Actual Tag\n",
            "['เที่ยวต่างประเทศ', 'บันทึกนักเดินทาง', 'มาเก๊า', 'แผนการเดินทางและท่องเที่ยว']\n",
            "=====\n",
            "Predicted Tags\n",
            "['บันทึกนักเดินทาง', 'เที่ยวต่างประเทศ', 'สถานที่ท่องเที่ยวต่างประเทศ']\n",
            "=====\n",
            "Corrected\n",
            "{'บันทึกนักเดินทาง', 'เที่ยวต่างประเทศ'}\n",
            "=======================\n",
            "=======================\n",
            "\n",
            "39093289\n",
            "เที่ยวพม่าหน้าหนาว เช่ารถพร้อมคนขับ เมืองพิลอูวิน pyin oo lwin และสีป้อ Hsipaw Day2/6\n",
            "=====\n",
            "\r\n",
            "\t\t\t\t\t\t\t\t\t\t\t\t\t\t\t\t      หลังจากที่ทีมเราได้ท่องเที่ยวพม่าทริปที่สองกับเพื่อนๆ ที่ย่างกุ้ง หงสาวดี มัณฑะเลย์   กับ Mr.Tun Tun  คนขับรถและเป็นไกด์ด้วย ประทับใจในการบริการที่ดีเยี่ยม ได้ติดต่อพูดคุยกับทางไลน์ และเฟสบุค กันเรื่อยมา  และมีเพื่อนๆพี่น้องในทริปที่ผ่านมาติดใจในการท่องเที่ยวแบบที่ได้วางแผนกันเอง จึงอยากจะไปเที่ยวพม่าที่เมืองอื่นแบบบรรยากาศธรรมชาติหน้าหนาวกันอีกบ้าง จึงได้รวบรวมสมาชิกได้ 9 คน ตั้งกรุฟไลน์กรุฟ ชื่อว่า \"Winter 19@Chan stage\"   เกิดทริปสุดแสนประทับใจแบบสุดคุ้มอีกครั้ง หลังจา\n",
            "=====\n",
            "Actual Tag\n",
            "['สถานที่ท่องเที่ยวต่างประเทศ', 'บันทึกนักเดินทาง', 'ประเทศพม่า', 'นักท่องเที่ยว', 'เที่ยวต่างประเทศ']\n",
            "=====\n",
            "Predicted Tags\n",
            "['บันทึกนักเดินทาง', 'เที่ยวต่างประเทศ', 'สถานที่ท่องเที่ยวต่างประเทศ', 'ภาพถ่ายทิวทัศน์']\n",
            "=====\n",
            "Corrected\n",
            "{'บันทึกนักเดินทาง', 'สถานที่ท่องเที่ยวต่างประเทศ', 'เที่ยวต่างประเทศ'}\n",
            "=======================\n",
            "=======================\n",
            "\n"
          ],
          "name": "stdout"
        }
      ]
    }
  ]
}